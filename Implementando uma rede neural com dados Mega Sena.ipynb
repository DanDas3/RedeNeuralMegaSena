{
  "nbformat": 4,
  "nbformat_minor": 0,
  "metadata": {
    "kernelspec": {
      "name": "python3",
      "display_name": "Python 3"
    },
    "colab": {
      "name": "Implementando uma rede neural com dados Mega Sena.ipynb",
      "provenance": [],
      "include_colab_link": true
    },
    "accelerator": "GPU"
  },
  "cells": [
    {
      "cell_type": "markdown",
      "metadata": {
        "id": "view-in-github",
        "colab_type": "text"
      },
      "source": [
        "<a href=\"https://colab.research.google.com/github/DanDas3/RedeNeuralMegaSena/blob/master/Implementando%20uma%20rede%20neural%20com%20dados%20Mega%20Sena.ipynb\" target=\"_parent\"><img src=\"https://colab.research.google.com/assets/colab-badge.svg\" alt=\"Open In Colab\"/></a>"
      ]
    },
    {
      "cell_type": "code",
      "metadata": {
        "id": "HFyAJ6GHvmJ5",
        "colab_type": "code",
        "colab": {
          "base_uri": "https://localhost:8080/",
          "height": 34
        },
        "outputId": "1138f506-9c3d-4a8a-d98b-859c7944cca2"
      },
      "source": [
        "!git clone https://github.com/DanDas3/RedeNeuralMegaSena.git"
      ],
      "execution_count": 1,
      "outputs": [
        {
          "output_type": "stream",
          "text": [
            "fatal: destination path 'RedeNeuralMegaSena' already exists and is not an empty directory.\n"
          ],
          "name": "stdout"
        }
      ]
    },
    {
      "cell_type": "markdown",
      "metadata": {
        "id": "MRwbFutevD8e",
        "colab_type": "text"
      },
      "source": [
        "# Importando bibliotecas"
      ]
    },
    {
      "cell_type": "code",
      "metadata": {
        "id": "YonlYzuVvD8q",
        "colab_type": "code",
        "colab": {}
      },
      "source": [
        "import pandas              as pd\n",
        "import numpy               as np\n",
        "import matplotlib.pyplot   as plt\n",
        "import seaborn             as sns\n",
        "import missingno           as msno\n",
        "import numpy               as np\n",
        "\n",
        "%matplotlib inline\n",
        "\n",
        "pd.set_option('display.max_columns',500)"
      ],
      "execution_count": 0,
      "outputs": []
    },
    {
      "cell_type": "markdown",
      "metadata": {
        "id": "mfg90yKYvD9F",
        "colab_type": "text"
      },
      "source": [
        "# Carregando dataset"
      ]
    },
    {
      "cell_type": "code",
      "metadata": {
        "id": "9J8znM9kvD9N",
        "colab_type": "code",
        "colab": {
          "base_uri": "https://localhost:8080/",
          "height": 244
        },
        "outputId": "923f7efc-0f75-45c0-f852-e22b2bb2814a"
      },
      "source": [
        "df             = pd.read_excel('RedeNeuralMegaSena/megasena.xlsx')\n",
        "df.head()"
      ],
      "execution_count": 3,
      "outputs": [
        {
          "output_type": "execute_result",
          "data": {
            "text/html": [
              "<div>\n",
              "<style scoped>\n",
              "    .dataframe tbody tr th:only-of-type {\n",
              "        vertical-align: middle;\n",
              "    }\n",
              "\n",
              "    .dataframe tbody tr th {\n",
              "        vertical-align: top;\n",
              "    }\n",
              "\n",
              "    .dataframe thead th {\n",
              "        text-align: right;\n",
              "    }\n",
              "</style>\n",
              "<table border=\"1\" class=\"dataframe\">\n",
              "  <thead>\n",
              "    <tr style=\"text-align: right;\">\n",
              "      <th></th>\n",
              "      <th>Concurso</th>\n",
              "      <th>Data Sorteio</th>\n",
              "      <th>primeira_dezena</th>\n",
              "      <th>segunda_dezena</th>\n",
              "      <th>terceira_dezena</th>\n",
              "      <th>quarta_dezena</th>\n",
              "      <th>quinta_dezena</th>\n",
              "      <th>sexta_dezena</th>\n",
              "      <th>Arrecadacao_Total</th>\n",
              "      <th>Ganhadores_Sena</th>\n",
              "      <th>Cidade</th>\n",
              "      <th>UF</th>\n",
              "      <th>Rateio_Sena</th>\n",
              "      <th>Ganhadores_Quina</th>\n",
              "      <th>Rateio_Quina</th>\n",
              "      <th>Ganhadores_Quadra</th>\n",
              "      <th>Rateio_Quadra</th>\n",
              "      <th>Acumulado</th>\n",
              "      <th>Valor_Acumulado</th>\n",
              "      <th>Estimativa_Prêmio</th>\n",
              "      <th>Acumulado_Mega_da_Virada</th>\n",
              "    </tr>\n",
              "  </thead>\n",
              "  <tbody>\n",
              "    <tr>\n",
              "      <th>0</th>\n",
              "      <td>1.0</td>\n",
              "      <td>1996-03-11</td>\n",
              "      <td>41.0</td>\n",
              "      <td>5.0</td>\n",
              "      <td>4.0</td>\n",
              "      <td>52.0</td>\n",
              "      <td>30.0</td>\n",
              "      <td>33.0</td>\n",
              "      <td>0.0</td>\n",
              "      <td>0.0</td>\n",
              "      <td>NaN</td>\n",
              "      <td>NaN</td>\n",
              "      <td>0.00</td>\n",
              "      <td>17.0</td>\n",
              "      <td>39158.92</td>\n",
              "      <td>2016.0</td>\n",
              "      <td>330.21</td>\n",
              "      <td>SIM</td>\n",
              "      <td>1714650.23</td>\n",
              "      <td>0.0</td>\n",
              "      <td>0.0</td>\n",
              "    </tr>\n",
              "    <tr>\n",
              "      <th>1</th>\n",
              "      <td>2.0</td>\n",
              "      <td>1996-03-18</td>\n",
              "      <td>9.0</td>\n",
              "      <td>39.0</td>\n",
              "      <td>37.0</td>\n",
              "      <td>49.0</td>\n",
              "      <td>43.0</td>\n",
              "      <td>41.0</td>\n",
              "      <td>0.0</td>\n",
              "      <td>1.0</td>\n",
              "      <td>NaN</td>\n",
              "      <td>PR</td>\n",
              "      <td>2307162.23</td>\n",
              "      <td>65.0</td>\n",
              "      <td>14424.02</td>\n",
              "      <td>4488.0</td>\n",
              "      <td>208.91</td>\n",
              "      <td>NÃO</td>\n",
              "      <td>0.00</td>\n",
              "      <td>0.0</td>\n",
              "      <td>0.0</td>\n",
              "    </tr>\n",
              "    <tr>\n",
              "      <th>2</th>\n",
              "      <td>3.0</td>\n",
              "      <td>1996-03-25</td>\n",
              "      <td>36.0</td>\n",
              "      <td>30.0</td>\n",
              "      <td>10.0</td>\n",
              "      <td>11.0</td>\n",
              "      <td>29.0</td>\n",
              "      <td>47.0</td>\n",
              "      <td>0.0</td>\n",
              "      <td>2.0</td>\n",
              "      <td>NaN</td>\n",
              "      <td>RN</td>\n",
              "      <td>391192.51</td>\n",
              "      <td>62.0</td>\n",
              "      <td>10515.93</td>\n",
              "      <td>4261.0</td>\n",
              "      <td>153.01</td>\n",
              "      <td>NÃO</td>\n",
              "      <td>0.00</td>\n",
              "      <td>0.0</td>\n",
              "      <td>0.0</td>\n",
              "    </tr>\n",
              "    <tr>\n",
              "      <th>3</th>\n",
              "      <td>NaN</td>\n",
              "      <td>NaT</td>\n",
              "      <td>NaN</td>\n",
              "      <td>NaN</td>\n",
              "      <td>NaN</td>\n",
              "      <td>NaN</td>\n",
              "      <td>NaN</td>\n",
              "      <td>NaN</td>\n",
              "      <td>NaN</td>\n",
              "      <td>NaN</td>\n",
              "      <td>NaN</td>\n",
              "      <td>SP</td>\n",
              "      <td>NaN</td>\n",
              "      <td>NaN</td>\n",
              "      <td>NaN</td>\n",
              "      <td>NaN</td>\n",
              "      <td>NaN</td>\n",
              "      <td>NaN</td>\n",
              "      <td>NaN</td>\n",
              "      <td>NaN</td>\n",
              "      <td>NaN</td>\n",
              "    </tr>\n",
              "    <tr>\n",
              "      <th>4</th>\n",
              "      <td>4.0</td>\n",
              "      <td>1996-04-01</td>\n",
              "      <td>6.0</td>\n",
              "      <td>59.0</td>\n",
              "      <td>42.0</td>\n",
              "      <td>27.0</td>\n",
              "      <td>1.0</td>\n",
              "      <td>5.0</td>\n",
              "      <td>0.0</td>\n",
              "      <td>0.0</td>\n",
              "      <td>NaN</td>\n",
              "      <td>NaN</td>\n",
              "      <td>0.00</td>\n",
              "      <td>39.0</td>\n",
              "      <td>15322.24</td>\n",
              "      <td>3311.0</td>\n",
              "      <td>180.48</td>\n",
              "      <td>SIM</td>\n",
              "      <td>717080.75</td>\n",
              "      <td>0.0</td>\n",
              "      <td>0.0</td>\n",
              "    </tr>\n",
              "  </tbody>\n",
              "</table>\n",
              "</div>"
            ],
            "text/plain": [
              "   Concurso Data Sorteio  primeira_dezena  segunda_dezena  terceira_dezena  \\\n",
              "0       1.0   1996-03-11             41.0             5.0              4.0   \n",
              "1       2.0   1996-03-18              9.0            39.0             37.0   \n",
              "2       3.0   1996-03-25             36.0            30.0             10.0   \n",
              "3       NaN          NaT              NaN             NaN              NaN   \n",
              "4       4.0   1996-04-01              6.0            59.0             42.0   \n",
              "\n",
              "   quarta_dezena  quinta_dezena  sexta_dezena  Arrecadacao_Total  \\\n",
              "0           52.0           30.0          33.0                0.0   \n",
              "1           49.0           43.0          41.0                0.0   \n",
              "2           11.0           29.0          47.0                0.0   \n",
              "3            NaN            NaN           NaN                NaN   \n",
              "4           27.0            1.0           5.0                0.0   \n",
              "\n",
              "   Ganhadores_Sena Cidade   UF  Rateio_Sena  Ganhadores_Quina  Rateio_Quina  \\\n",
              "0              0.0    NaN  NaN         0.00              17.0      39158.92   \n",
              "1              1.0    NaN   PR   2307162.23              65.0      14424.02   \n",
              "2              2.0    NaN   RN    391192.51              62.0      10515.93   \n",
              "3              NaN    NaN   SP          NaN               NaN           NaN   \n",
              "4              0.0    NaN  NaN         0.00              39.0      15322.24   \n",
              "\n",
              "   Ganhadores_Quadra  Rateio_Quadra Acumulado  Valor_Acumulado  \\\n",
              "0             2016.0         330.21       SIM       1714650.23   \n",
              "1             4488.0         208.91       NÃO             0.00   \n",
              "2             4261.0         153.01       NÃO             0.00   \n",
              "3                NaN            NaN       NaN              NaN   \n",
              "4             3311.0         180.48       SIM        717080.75   \n",
              "\n",
              "   Estimativa_Prêmio  Acumulado_Mega_da_Virada  \n",
              "0                0.0                       0.0  \n",
              "1                0.0                       0.0  \n",
              "2                0.0                       0.0  \n",
              "3                NaN                       NaN  \n",
              "4                0.0                       0.0  "
            ]
          },
          "metadata": {
            "tags": []
          },
          "execution_count": 3
        }
      ]
    },
    {
      "cell_type": "markdown",
      "metadata": {
        "id": "M0-nmcbSvD9o",
        "colab_type": "text"
      },
      "source": [
        "# Check dataset"
      ]
    },
    {
      "cell_type": "code",
      "metadata": {
        "id": "x0M3-5KQvD9w",
        "colab_type": "code",
        "colab": {
          "base_uri": "https://localhost:8080/",
          "height": 34
        },
        "outputId": "3cfcdf13-3e3d-47f0-aace-7d27ee82f8e6"
      },
      "source": [
        "df.shape"
      ],
      "execution_count": 4,
      "outputs": [
        {
          "output_type": "execute_result",
          "data": {
            "text/plain": [
              "(2483, 21)"
            ]
          },
          "metadata": {
            "tags": []
          },
          "execution_count": 4
        }
      ]
    },
    {
      "cell_type": "code",
      "metadata": {
        "id": "r4oj1ie1vD-J",
        "colab_type": "code",
        "colab": {
          "base_uri": "https://localhost:8080/",
          "height": 399
        },
        "outputId": "fc30e63b-742a-4247-979c-22917ca7e02f"
      },
      "source": [
        "df.dtypes"
      ],
      "execution_count": 5,
      "outputs": [
        {
          "output_type": "execute_result",
          "data": {
            "text/plain": [
              "Concurso                           float64\n",
              "Data Sorteio                datetime64[ns]\n",
              "primeira_dezena                    float64\n",
              "segunda_dezena                     float64\n",
              "terceira_dezena                    float64\n",
              "quarta_dezena                      float64\n",
              "quinta_dezena                      float64\n",
              "sexta_dezena                       float64\n",
              "Arrecadacao_Total                  float64\n",
              "Ganhadores_Sena                    float64\n",
              "Cidade                              object\n",
              "UF                                  object\n",
              "Rateio_Sena                        float64\n",
              "Ganhadores_Quina                   float64\n",
              "Rateio_Quina                       float64\n",
              "Ganhadores_Quadra                  float64\n",
              "Rateio_Quadra                      float64\n",
              "Acumulado                           object\n",
              "Valor_Acumulado                    float64\n",
              "Estimativa_Prêmio                  float64\n",
              "Acumulado_Mega_da_Virada           float64\n",
              "dtype: object"
            ]
          },
          "metadata": {
            "tags": []
          },
          "execution_count": 5
        }
      ]
    },
    {
      "cell_type": "markdown",
      "metadata": {
        "id": "nserHYutvD-g",
        "colab_type": "text"
      },
      "source": [
        "# Transformando dados"
      ]
    },
    {
      "cell_type": "code",
      "metadata": {
        "id": "eK3QgC2hvD-o",
        "colab_type": "code",
        "colab": {}
      },
      "source": [
        "# Vamos criar uma coluna para armazenar a data e converte-la para datetime\n",
        "\n",
        "df['data_sorteio_conv'] = df.iloc[:,1]\n",
        "df.data_sorteio_conv = pd.to_datetime(df.data_sorteio_conv)\n",
        "\n",
        "# Vamos quebrar a data em Dia, Mês e Ano\n",
        "df['day']   = df.data_sorteio_conv.dt.day\n",
        "df['month'] = df.data_sorteio_conv.dt.month \n",
        "df['year']  = df.data_sorteio_conv.dt.year"
      ],
      "execution_count": 0,
      "outputs": []
    },
    {
      "cell_type": "code",
      "metadata": {
        "id": "Ksuuwyd9vD_A",
        "colab_type": "code",
        "colab": {
          "base_uri": "https://localhost:8080/",
          "height": 244
        },
        "outputId": "ff8c1e60-a48d-423e-a535-e6af961a32cd"
      },
      "source": [
        "# Vamos criar um dataframe para analisar os sorteios que tiveram ganhadores\n",
        "\n",
        "df_ganhadores = df[df['Acumulado'] == 'NÃO']\n",
        "\n",
        "df_ganhadores.head()"
      ],
      "execution_count": 7,
      "outputs": [
        {
          "output_type": "execute_result",
          "data": {
            "text/html": [
              "<div>\n",
              "<style scoped>\n",
              "    .dataframe tbody tr th:only-of-type {\n",
              "        vertical-align: middle;\n",
              "    }\n",
              "\n",
              "    .dataframe tbody tr th {\n",
              "        vertical-align: top;\n",
              "    }\n",
              "\n",
              "    .dataframe thead th {\n",
              "        text-align: right;\n",
              "    }\n",
              "</style>\n",
              "<table border=\"1\" class=\"dataframe\">\n",
              "  <thead>\n",
              "    <tr style=\"text-align: right;\">\n",
              "      <th></th>\n",
              "      <th>Concurso</th>\n",
              "      <th>Data Sorteio</th>\n",
              "      <th>primeira_dezena</th>\n",
              "      <th>segunda_dezena</th>\n",
              "      <th>terceira_dezena</th>\n",
              "      <th>quarta_dezena</th>\n",
              "      <th>quinta_dezena</th>\n",
              "      <th>sexta_dezena</th>\n",
              "      <th>Arrecadacao_Total</th>\n",
              "      <th>Ganhadores_Sena</th>\n",
              "      <th>Cidade</th>\n",
              "      <th>UF</th>\n",
              "      <th>Rateio_Sena</th>\n",
              "      <th>Ganhadores_Quina</th>\n",
              "      <th>Rateio_Quina</th>\n",
              "      <th>Ganhadores_Quadra</th>\n",
              "      <th>Rateio_Quadra</th>\n",
              "      <th>Acumulado</th>\n",
              "      <th>Valor_Acumulado</th>\n",
              "      <th>Estimativa_Prêmio</th>\n",
              "      <th>Acumulado_Mega_da_Virada</th>\n",
              "      <th>data_sorteio_conv</th>\n",
              "      <th>day</th>\n",
              "      <th>month</th>\n",
              "      <th>year</th>\n",
              "    </tr>\n",
              "  </thead>\n",
              "  <tbody>\n",
              "    <tr>\n",
              "      <th>1</th>\n",
              "      <td>2.0</td>\n",
              "      <td>1996-03-18</td>\n",
              "      <td>9.0</td>\n",
              "      <td>39.0</td>\n",
              "      <td>37.0</td>\n",
              "      <td>49.0</td>\n",
              "      <td>43.0</td>\n",
              "      <td>41.0</td>\n",
              "      <td>0.0</td>\n",
              "      <td>1.0</td>\n",
              "      <td>NaN</td>\n",
              "      <td>PR</td>\n",
              "      <td>2307162.23</td>\n",
              "      <td>65.0</td>\n",
              "      <td>14424.02</td>\n",
              "      <td>4488.0</td>\n",
              "      <td>208.91</td>\n",
              "      <td>NÃO</td>\n",
              "      <td>0.0</td>\n",
              "      <td>0.0</td>\n",
              "      <td>0.0</td>\n",
              "      <td>1996-03-18</td>\n",
              "      <td>18.0</td>\n",
              "      <td>3.0</td>\n",
              "      <td>1996.0</td>\n",
              "    </tr>\n",
              "    <tr>\n",
              "      <th>2</th>\n",
              "      <td>3.0</td>\n",
              "      <td>1996-03-25</td>\n",
              "      <td>36.0</td>\n",
              "      <td>30.0</td>\n",
              "      <td>10.0</td>\n",
              "      <td>11.0</td>\n",
              "      <td>29.0</td>\n",
              "      <td>47.0</td>\n",
              "      <td>0.0</td>\n",
              "      <td>2.0</td>\n",
              "      <td>NaN</td>\n",
              "      <td>RN</td>\n",
              "      <td>391192.51</td>\n",
              "      <td>62.0</td>\n",
              "      <td>10515.93</td>\n",
              "      <td>4261.0</td>\n",
              "      <td>153.01</td>\n",
              "      <td>NÃO</td>\n",
              "      <td>0.0</td>\n",
              "      <td>0.0</td>\n",
              "      <td>0.0</td>\n",
              "      <td>1996-03-25</td>\n",
              "      <td>25.0</td>\n",
              "      <td>3.0</td>\n",
              "      <td>1996.0</td>\n",
              "    </tr>\n",
              "    <tr>\n",
              "      <th>11</th>\n",
              "      <td>11.0</td>\n",
              "      <td>1996-05-20</td>\n",
              "      <td>25.0</td>\n",
              "      <td>15.0</td>\n",
              "      <td>58.0</td>\n",
              "      <td>37.0</td>\n",
              "      <td>59.0</td>\n",
              "      <td>38.0</td>\n",
              "      <td>0.0</td>\n",
              "      <td>1.0</td>\n",
              "      <td>NaN</td>\n",
              "      <td>RJ</td>\n",
              "      <td>15591365.07</td>\n",
              "      <td>148.0</td>\n",
              "      <td>12706.05</td>\n",
              "      <td>9442.0</td>\n",
              "      <td>199.16</td>\n",
              "      <td>NÃO</td>\n",
              "      <td>0.0</td>\n",
              "      <td>0.0</td>\n",
              "      <td>0.0</td>\n",
              "      <td>1996-05-20</td>\n",
              "      <td>20.0</td>\n",
              "      <td>5.0</td>\n",
              "      <td>1996.0</td>\n",
              "    </tr>\n",
              "    <tr>\n",
              "      <th>17</th>\n",
              "      <td>17.0</td>\n",
              "      <td>1996-07-01</td>\n",
              "      <td>10.0</td>\n",
              "      <td>20.0</td>\n",
              "      <td>6.0</td>\n",
              "      <td>19.0</td>\n",
              "      <td>51.0</td>\n",
              "      <td>13.0</td>\n",
              "      <td>0.0</td>\n",
              "      <td>1.0</td>\n",
              "      <td>NaN</td>\n",
              "      <td>SP</td>\n",
              "      <td>6789869.08</td>\n",
              "      <td>144.0</td>\n",
              "      <td>7628.37</td>\n",
              "      <td>9376.0</td>\n",
              "      <td>117.16</td>\n",
              "      <td>NÃO</td>\n",
              "      <td>0.0</td>\n",
              "      <td>0.0</td>\n",
              "      <td>0.0</td>\n",
              "      <td>1996-07-01</td>\n",
              "      <td>1.0</td>\n",
              "      <td>7.0</td>\n",
              "      <td>1996.0</td>\n",
              "    </tr>\n",
              "    <tr>\n",
              "      <th>24</th>\n",
              "      <td>24.0</td>\n",
              "      <td>1996-08-19</td>\n",
              "      <td>1.0</td>\n",
              "      <td>8.0</td>\n",
              "      <td>14.0</td>\n",
              "      <td>28.0</td>\n",
              "      <td>33.0</td>\n",
              "      <td>43.0</td>\n",
              "      <td>0.0</td>\n",
              "      <td>1.0</td>\n",
              "      <td>NaN</td>\n",
              "      <td>NaN</td>\n",
              "      <td>18661679.61</td>\n",
              "      <td>227.0</td>\n",
              "      <td>7897.31</td>\n",
              "      <td>13486.0</td>\n",
              "      <td>132.93</td>\n",
              "      <td>NÃO</td>\n",
              "      <td>0.0</td>\n",
              "      <td>0.0</td>\n",
              "      <td>0.0</td>\n",
              "      <td>1996-08-19</td>\n",
              "      <td>19.0</td>\n",
              "      <td>8.0</td>\n",
              "      <td>1996.0</td>\n",
              "    </tr>\n",
              "  </tbody>\n",
              "</table>\n",
              "</div>"
            ],
            "text/plain": [
              "    Concurso Data Sorteio  primeira_dezena  segunda_dezena  terceira_dezena  \\\n",
              "1        2.0   1996-03-18              9.0            39.0             37.0   \n",
              "2        3.0   1996-03-25             36.0            30.0             10.0   \n",
              "11      11.0   1996-05-20             25.0            15.0             58.0   \n",
              "17      17.0   1996-07-01             10.0            20.0              6.0   \n",
              "24      24.0   1996-08-19              1.0             8.0             14.0   \n",
              "\n",
              "    quarta_dezena  quinta_dezena  sexta_dezena  Arrecadacao_Total  \\\n",
              "1            49.0           43.0          41.0                0.0   \n",
              "2            11.0           29.0          47.0                0.0   \n",
              "11           37.0           59.0          38.0                0.0   \n",
              "17           19.0           51.0          13.0                0.0   \n",
              "24           28.0           33.0          43.0                0.0   \n",
              "\n",
              "    Ganhadores_Sena Cidade   UF  Rateio_Sena  Ganhadores_Quina  Rateio_Quina  \\\n",
              "1               1.0    NaN   PR   2307162.23              65.0      14424.02   \n",
              "2               2.0    NaN   RN    391192.51              62.0      10515.93   \n",
              "11              1.0    NaN   RJ  15591365.07             148.0      12706.05   \n",
              "17              1.0    NaN   SP   6789869.08             144.0       7628.37   \n",
              "24              1.0    NaN  NaN  18661679.61             227.0       7897.31   \n",
              "\n",
              "    Ganhadores_Quadra  Rateio_Quadra Acumulado  Valor_Acumulado  \\\n",
              "1              4488.0         208.91       NÃO              0.0   \n",
              "2              4261.0         153.01       NÃO              0.0   \n",
              "11             9442.0         199.16       NÃO              0.0   \n",
              "17             9376.0         117.16       NÃO              0.0   \n",
              "24            13486.0         132.93       NÃO              0.0   \n",
              "\n",
              "    Estimativa_Prêmio  Acumulado_Mega_da_Virada data_sorteio_conv   day  \\\n",
              "1                 0.0                       0.0        1996-03-18  18.0   \n",
              "2                 0.0                       0.0        1996-03-25  25.0   \n",
              "11                0.0                       0.0        1996-05-20  20.0   \n",
              "17                0.0                       0.0        1996-07-01   1.0   \n",
              "24                0.0                       0.0        1996-08-19  19.0   \n",
              "\n",
              "    month    year  \n",
              "1     3.0  1996.0  \n",
              "2     3.0  1996.0  \n",
              "11    5.0  1996.0  \n",
              "17    7.0  1996.0  \n",
              "24    8.0  1996.0  "
            ]
          },
          "metadata": {
            "tags": []
          },
          "execution_count": 7
        }
      ]
    },
    {
      "cell_type": "markdown",
      "metadata": {
        "id": "C-kaDJIavD_a",
        "colab_type": "text"
      },
      "source": [
        "# Higienizando nosso dataset"
      ]
    },
    {
      "cell_type": "code",
      "metadata": {
        "id": "EjfGFTFuvD_k",
        "colab_type": "code",
        "colab": {
          "base_uri": "https://localhost:8080/",
          "height": 533
        },
        "outputId": "6072f7d4-a4e5-4ebf-c570-e2505529dcf8"
      },
      "source": [
        "# Visão geral do dataframe\n",
        "msno.matrix(df=df.iloc[:,0:df.shape[1]], figsize=(20, 5), color=(0.42, 0.1, 0.05))"
      ],
      "execution_count": 8,
      "outputs": [
        {
          "output_type": "execute_result",
          "data": {
            "text/plain": [
              "<matplotlib.axes._subplots.AxesSubplot at 0x7f133986a6a0>"
            ]
          },
          "metadata": {
            "tags": []
          },
          "execution_count": 8
        },
        {
          "output_type": "display_data",
          "data": {
            "image/png": "[encoded data removed]",
            "text/plain": [
              "<Figure size 1440x360 with 2 Axes>"
            ]
          },
          "metadata": {
            "tags": []
          }
        }
      ]
    },
    {
      "cell_type": "code",
      "metadata": {
        "id": "DHCRFgZkvEAA",
        "colab_type": "code",
        "colab": {
          "base_uri": "https://localhost:8080/",
          "height": 533
        },
        "outputId": "cdfeddbc-9fa2-4164-fbd3-85c732ecd540"
      },
      "source": [
        "# Removendo valores nulos \n",
        "df = df.dropna(subset=['Concurso'])\n",
        "msno.matrix(df=df.iloc[:,0:df.shape[1]], figsize=(20, 5), color=(0.42, 0.1, 0.05))"
      ],
      "execution_count": 9,
      "outputs": [
        {
          "output_type": "execute_result",
          "data": {
            "text/plain": [
              "<matplotlib.axes._subplots.AxesSubplot at 0x7f13352dd8d0>"
            ]
          },
          "metadata": {
            "tags": []
          },
          "execution_count": 9
        },
        {
          "output_type": "display_data",
          "data": {
            "image/png": "[encoded data removed]",
            "text/plain": [
              "<Figure size 1440x360 with 2 Axes>"
            ]
          },
          "metadata": {
            "tags": []
          }
        }
      ]
    },
    {
      "cell_type": "code",
      "metadata": {
        "id": "3jcw9fr4vEAZ",
        "colab_type": "code",
        "colab": {
          "base_uri": "https://localhost:8080/",
          "height": 533
        },
        "outputId": "2a785e9a-d758-422b-9247-453df0d916f7"
      },
      "source": [
        "# Removendo colunas Cidade e UF\n",
        "df = df.drop(['Cidade', 'UF'], axis=1)\n",
        "msno.matrix(df=df.iloc[:,0:df.shape[1]], figsize=(20, 5), color=(0.42, 0.1, 0.05))"
      ],
      "execution_count": 10,
      "outputs": [
        {
          "output_type": "execute_result",
          "data": {
            "text/plain": [
              "<matplotlib.axes._subplots.AxesSubplot at 0x7f1339f47ba8>"
            ]
          },
          "metadata": {
            "tags": []
          },
          "execution_count": 10
        },
        {
          "output_type": "display_data",
          "data": {
            "image/png": "[encoded data removed]",
            "text/plain": [
              "<Figure size 1440x360 with 2 Axes>"
            ]
          },
          "metadata": {
            "tags": []
          }
        }
      ]
    },
    {
      "cell_type": "markdown",
      "metadata": {
        "id": "G9sHFakyvEAy",
        "colab_type": "text"
      },
      "source": [
        "# Exploratory Data Analysis"
      ]
    },
    {
      "cell_type": "markdown",
      "metadata": {
        "id": "TpK4gSxPvEA6",
        "colab_type": "text"
      },
      "source": [
        "### Analisando sorteo com ganhadores"
      ]
    },
    {
      "cell_type": "code",
      "metadata": {
        "id": "WETt61_9vEBB",
        "colab_type": "code",
        "colab": {
          "base_uri": "https://localhost:8080/",
          "height": 376
        },
        "outputId": "d74597d1-9e5f-403c-f43d-2a1d187d9c52"
      },
      "source": [
        "# Ganhadores X Volume do Prêmio por Estado \n",
        "\n",
        "ax = df_ganhadores.groupby(['UF'])['Ganhadores_Sena'].agg('sum').sort_values(ascending=False).plot(kind='bar', title='Ganhadores por Estado', figsize=(15,5), fontsize=12, legend=True, position=1, color='gray')\n",
        "\n",
        "df_ganhadores.groupby(['UF'])['Rateio_Sena'].agg('sum').sort_values(ascending=False).plot(kind='bar', ax=ax, secondary_y=True, legend=True, position=0, color='blue')"
      ],
      "execution_count": 11,
      "outputs": [
        {
          "output_type": "execute_result",
          "data": {
            "text/plain": [
              "<matplotlib.axes._subplots.AxesSubplot at 0x7f1339ea6240>"
            ]
          },
          "metadata": {
            "tags": []
          },
          "execution_count": 11
        },
        {
          "output_type": "display_data",
          "data": {
            "image/png": "[encoded data removed]",
            "text/plain": [
              "<Figure size 1080x360 with 2 Axes>"
            ]
          },
          "metadata": {
            "tags": []
          }
        }
      ]
    },
    {
      "cell_type": "code",
      "metadata": {
        "id": "FEC3xZ7UvEBZ",
        "colab_type": "code",
        "colab": {
          "base_uri": "https://localhost:8080/",
          "height": 383
        },
        "outputId": "63d6221e-f7d0-4438-d256-4243eecc1468"
      },
      "source": [
        "# Ganhadores X Mes\n",
        "\n",
        "df_ganhadores.groupby(['month'])['Ganhadores_Sena'].agg('sum').plot(kind='bar', title='Ganhadores X Mês', fontsize=12, figsize=(15,5), legend=True, color='gray')"
      ],
      "execution_count": 12,
      "outputs": [
        {
          "output_type": "execute_result",
          "data": {
            "text/plain": [
              "<matplotlib.axes._subplots.AxesSubplot at 0x7f1336f684e0>"
            ]
          },
          "metadata": {
            "tags": []
          },
          "execution_count": 12
        },
        {
          "output_type": "display_data",
          "data": {
            "image/png": "[encoded data removed]",
            "text/plain": [
              "<Figure size 1080x360 with 1 Axes>"
            ]
          },
          "metadata": {
            "tags": []
          }
        }
      ]
    },
    {
      "cell_type": "markdown",
      "metadata": {
        "id": "Y3qC07CgvEBz",
        "colab_type": "text"
      },
      "source": [
        "### Analisando dezenas sorteadas"
      ]
    },
    {
      "cell_type": "code",
      "metadata": {
        "id": "FYIu72vlvEB6",
        "colab_type": "code",
        "colab": {
          "base_uri": "https://localhost:8080/",
          "height": 243
        },
        "outputId": "0f39b809-dc35-42da-d68a-bdb140b1619c"
      },
      "source": [
        "# Verificando se alguma vez as dezenas se repetiram na mesma ordem\n",
        "\n",
        "df.groupby(['primeira_dezena','segunda_dezena', 'terceira_dezena', 'quarta_dezena', 'quinta_dezena', 'sexta_dezena']).size().sort_values(ascending=False)\n",
        "\n",
        "# Até agora nunca tivemos um jogo repetido com as dezenas na mesma ordem"
      ],
      "execution_count": 13,
      "outputs": [
        {
          "output_type": "execute_result",
          "data": {
            "text/plain": [
              "primeira_dezena  segunda_dezena  terceira_dezena  quarta_dezena  quinta_dezena  sexta_dezena\n",
              "60.0             58.0            49.0             32.0           20.0           34.0            1\n",
              "21.0             11.0            13.0             53.0           54.0           5.0             1\n",
              "                 23.0            43.0             1.0            19.0           33.0            1\n",
              "                                 20.0             7.0            29.0           15.0            1\n",
              "                 19.0            1.0              9.0            34.0           54.0            1\n",
              "                                                                                               ..\n",
              "41.0             26.0            51.0             14.0           24.0           23.0            1\n",
              "                 27.0            13.0             60.0           14.0           18.0            1\n",
              "                 28.0            45.0             31.0           16.0           59.0            1\n",
              "                 32.0            19.0             58.0           5.0            49.0            1\n",
              "1.0              2.0             10.0             48.0           14.0           8.0             1\n",
              "Length: 2215, dtype: int64"
            ]
          },
          "metadata": {
            "tags": []
          },
          "execution_count": 13
        }
      ]
    },
    {
      "cell_type": "code",
      "metadata": {
        "id": "yhho-cj5vECS",
        "colab_type": "code",
        "colab": {
          "base_uri": "https://localhost:8080/",
          "height": 356
        },
        "outputId": "75ba2e54-9dea-4a8b-812b-c528554f2202"
      },
      "source": [
        "# As seis dezenas mais sorteadas em todos os jogos\n",
        "\n",
        "dezenas = pd.DataFrame(df['primeira_dezena'].tolist() + df['segunda_dezena'].tolist() + df['terceira_dezena'].tolist() + df['quarta_dezena'].tolist() + df['quinta_dezena'].tolist() + df['sexta_dezena'].tolist(), columns=['numeros'])\n",
        "\n",
        "dezenas['numeros'].value_counts().sort_values(ascending=True).head(6).plot(kind='barh', title='As seis dezenas mais sorteadas em todos os jogos', figsize=(10,5), fontsize=12, legend=True, color='gray')"
      ],
      "execution_count": 14,
      "outputs": [
        {
          "output_type": "execute_result",
          "data": {
            "text/plain": [
              "<matplotlib.axes._subplots.AxesSubplot at 0x7f1339e3b0b8>"
            ]
          },
          "metadata": {
            "tags": []
          },
          "execution_count": 14
        },
        {
          "output_type": "display_data",
          "data": {
            "image/png": "[encoded data removed]",
            "text/plain": [
              "<Figure size 720x360 with 1 Axes>"
            ]
          },
          "metadata": {
            "tags": []
          }
        }
      ]
    },
    {
      "cell_type": "markdown",
      "metadata": {
        "id": "Od4axX05vECz",
        "colab_type": "text"
      },
      "source": [
        "# Preparando nosso dataset para o modelo"
      ]
    },
    {
      "cell_type": "code",
      "metadata": {
        "id": "SjqdglijvEC7",
        "colab_type": "code",
        "colab": {
          "base_uri": "https://localhost:8080/",
          "height": 206
        },
        "outputId": "22034c87-b7a0-40b1-ffb9-37244fdf5f49"
      },
      "source": [
        "# Criando dataframe que vamos usar nos modelos \n",
        "df_nn = df[['primeira_dezena','segunda_dezena','terceira_dezena','quarta_dezena','quinta_dezena','sexta_dezena', 'Ganhadores_Sena']] \n",
        "\n",
        "# Deixando os nomes das coluna em minusculo\n",
        "df_nn.columns = map(str.lower, df_nn.columns)\n",
        "\n",
        "df_nn.head(5)"
      ],
      "execution_count": 15,
      "outputs": [
        {
          "output_type": "execute_result",
          "data": {
            "text/html": [
              "<div>\n",
              "<style scoped>\n",
              "    .dataframe tbody tr th:only-of-type {\n",
              "        vertical-align: middle;\n",
              "    }\n",
              "\n",
              "    .dataframe tbody tr th {\n",
              "        vertical-align: top;\n",
              "    }\n",
              "\n",
              "    .dataframe thead th {\n",
              "        text-align: right;\n",
              "    }\n",
              "</style>\n",
              "<table border=\"1\" class=\"dataframe\">\n",
              "  <thead>\n",
              "    <tr style=\"text-align: right;\">\n",
              "      <th></th>\n",
              "      <th>primeira_dezena</th>\n",
              "      <th>segunda_dezena</th>\n",
              "      <th>terceira_dezena</th>\n",
              "      <th>quarta_dezena</th>\n",
              "      <th>quinta_dezena</th>\n",
              "      <th>sexta_dezena</th>\n",
              "      <th>ganhadores_sena</th>\n",
              "    </tr>\n",
              "  </thead>\n",
              "  <tbody>\n",
              "    <tr>\n",
              "      <th>0</th>\n",
              "      <td>41.0</td>\n",
              "      <td>5.0</td>\n",
              "      <td>4.0</td>\n",
              "      <td>52.0</td>\n",
              "      <td>30.0</td>\n",
              "      <td>33.0</td>\n",
              "      <td>0.0</td>\n",
              "    </tr>\n",
              "    <tr>\n",
              "      <th>1</th>\n",
              "      <td>9.0</td>\n",
              "      <td>39.0</td>\n",
              "      <td>37.0</td>\n",
              "      <td>49.0</td>\n",
              "      <td>43.0</td>\n",
              "      <td>41.0</td>\n",
              "      <td>1.0</td>\n",
              "    </tr>\n",
              "    <tr>\n",
              "      <th>2</th>\n",
              "      <td>36.0</td>\n",
              "      <td>30.0</td>\n",
              "      <td>10.0</td>\n",
              "      <td>11.0</td>\n",
              "      <td>29.0</td>\n",
              "      <td>47.0</td>\n",
              "      <td>2.0</td>\n",
              "    </tr>\n",
              "    <tr>\n",
              "      <th>4</th>\n",
              "      <td>6.0</td>\n",
              "      <td>59.0</td>\n",
              "      <td>42.0</td>\n",
              "      <td>27.0</td>\n",
              "      <td>1.0</td>\n",
              "      <td>5.0</td>\n",
              "      <td>0.0</td>\n",
              "    </tr>\n",
              "    <tr>\n",
              "      <th>5</th>\n",
              "      <td>1.0</td>\n",
              "      <td>19.0</td>\n",
              "      <td>46.0</td>\n",
              "      <td>6.0</td>\n",
              "      <td>16.0</td>\n",
              "      <td>2.0</td>\n",
              "      <td>0.0</td>\n",
              "    </tr>\n",
              "  </tbody>\n",
              "</table>\n",
              "</div>"
            ],
            "text/plain": [
              "   primeira_dezena  segunda_dezena  terceira_dezena  quarta_dezena  \\\n",
              "0             41.0             5.0              4.0           52.0   \n",
              "1              9.0            39.0             37.0           49.0   \n",
              "2             36.0            30.0             10.0           11.0   \n",
              "4              6.0            59.0             42.0           27.0   \n",
              "5              1.0            19.0             46.0            6.0   \n",
              "\n",
              "   quinta_dezena  sexta_dezena  ganhadores_sena  \n",
              "0           30.0          33.0              0.0  \n",
              "1           43.0          41.0              1.0  \n",
              "2           29.0          47.0              2.0  \n",
              "4            1.0           5.0              0.0  \n",
              "5           16.0           2.0              0.0  "
            ]
          },
          "metadata": {
            "tags": []
          },
          "execution_count": 15
        }
      ]
    },
    {
      "cell_type": "code",
      "metadata": {
        "id": "Z1m4XdYuvEDR",
        "colab_type": "code",
        "colab": {
          "base_uri": "https://localhost:8080/",
          "height": 368
        },
        "outputId": "df5f0985-0a22-4cfe-a7b9-664006ecdda8"
      },
      "source": [
        "# Pode existir mais de um ganhador por jogo\n",
        "df_nn[df_nn['ganhadores_sena'] > 1].groupby('ganhadores_sena')['ganhadores_sena'].agg('count').plot(kind='bar',figsize=(10,5), color='gray', fontsize=12)"
      ],
      "execution_count": 16,
      "outputs": [
        {
          "output_type": "execute_result",
          "data": {
            "text/plain": [
              "<matplotlib.axes._subplots.AxesSubplot at 0x7f1335196da0>"
            ]
          },
          "metadata": {
            "tags": []
          },
          "execution_count": 16
        },
        {
          "output_type": "display_data",
          "data": {
            "image/png": "[encoded data removed]",
            "text/plain": [
              "<Figure size 720x360 with 1 Axes>"
            ]
          },
          "metadata": {
            "tags": []
          }
        }
      ]
    },
    {
      "cell_type": "code",
      "metadata": {
        "id": "BooWBybHvEDp",
        "colab_type": "code",
        "colab": {
          "base_uri": "https://localhost:8080/",
          "height": 540
        },
        "outputId": "88692286-4dd8-4919-eaa7-f88b27f6e341"
      },
      "source": [
        "# Então tudo jogo que tiver mais de um ganhador deixamos como o numeor 1\n",
        "df_nn.loc[df_nn['ganhadores_sena'] > 1, 'ganhadores_sena'] = 1\n",
        "\n",
        "df_nn['ganhadores_sena'].value_counts().plot(kind='bar', figsize=(10,5), color='gray', fontsize=12)"
      ],
      "execution_count": 17,
      "outputs": [
        {
          "output_type": "stream",
          "text": [
            "/usr/local/lib/python3.6/dist-packages/pandas/core/indexing.py:205: SettingWithCopyWarning: \n",
            "A value is trying to be set on a copy of a slice from a DataFrame\n",
            "\n",
            "See the caveats in the documentation: http://pandas.pydata.org/pandas-docs/stable/user_guide/indexing.html#returning-a-view-versus-a-copy\n",
            "  self._setitem_with_indexer(indexer, value)\n",
            "/usr/local/lib/python3.6/dist-packages/ipykernel_launcher.py:1: SettingWithCopyWarning: \n",
            "A value is trying to be set on a copy of a slice from a DataFrame\n",
            "\n",
            "See the caveats in the documentation: http://pandas.pydata.org/pandas-docs/stable/user_guide/indexing.html#returning-a-view-versus-a-copy\n",
            "  \"\"\"Entry point for launching an IPython kernel.\n"
          ],
          "name": "stderr"
        },
        {
          "output_type": "execute_result",
          "data": {
            "text/plain": [
              "<matplotlib.axes._subplots.AxesSubplot at 0x7f1335103278>"
            ]
          },
          "metadata": {
            "tags": []
          },
          "execution_count": 17
        },
        {
          "output_type": "display_data",
          "data": {
            "image/png": "[encoded data removed]",
            "text/plain": [
              "<Figure size 720x360 with 1 Axes>"
            ]
          },
          "metadata": {
            "tags": []
          }
        }
      ]
    },
    {
      "cell_type": "markdown",
      "metadata": {
        "id": "AUM59XskvEEC",
        "colab_type": "text"
      },
      "source": [
        "# First Model - Neural Network"
      ]
    },
    {
      "cell_type": "code",
      "metadata": {
        "id": "FBYjMapJvEEK",
        "colab_type": "code",
        "colab": {
          "base_uri": "https://localhost:8080/",
          "height": 81
        },
        "outputId": "fb83f914-4b38-4531-c532-bff7ec262cf2"
      },
      "source": [
        "from keras.models  import Sequential\n",
        "from keras.layers  import Dense\n",
        "from keras.layers.core import Dropout\n",
        "from sklearn.model_selection import train_test_split"
      ],
      "execution_count": 18,
      "outputs": [
        {
          "output_type": "stream",
          "text": [
            "Using TensorFlow backend.\n"
          ],
          "name": "stderr"
        },
        {
          "output_type": "display_data",
          "data": {
            "text/html": [
              "<p style=\"color: red;\">\n",
              "The default version of TensorFlow in Colab will soon switch to TensorFlow 2.x.<br>\n",
              "We recommend you <a href=\"https://www.tensorflow.org/guide/migrate\" target=\"_blank\">upgrade</a> now \n",
              "or ensure your notebook will continue to use TensorFlow 1.x via the <code>%tensorflow_version 1.x</code> magic:\n",
              "<a href=\"https://colab.research.google.com/notebooks/tensorflow_version.ipynb\" target=\"_blank\">more info</a>.</p>\n"
            ],
            "text/plain": [
              "<IPython.core.display.HTML object>"
            ]
          },
          "metadata": {
            "tags": []
          }
        }
      ]
    },
    {
      "cell_type": "code",
      "metadata": {
        "id": "BRFxMwDhvEEi",
        "colab_type": "code",
        "colab": {}
      },
      "source": [
        "# Definição do seed para a reproducidade do modelo\n",
        "np.random.seed(8)"
      ],
      "execution_count": 0,
      "outputs": []
    },
    {
      "cell_type": "code",
      "metadata": {
        "id": "L3bwlMErvEE8",
        "colab_type": "code",
        "colab": {}
      },
      "source": [
        "# Separando target e classes\n",
        "features = df_nn.iloc[:,0:6]\n",
        "target   = df_nn.iloc[:,6]"
      ],
      "execution_count": 0,
      "outputs": []
    },
    {
      "cell_type": "code",
      "metadata": {
        "id": "jZJqzdPZvEFS",
        "colab_type": "code",
        "colab": {}
      },
      "source": [
        "# Dividindo dataset entre treino e teste\n",
        "X_train, X_test, y_train, y_test = train_test_split(target, features, test_size=0.33, random_state=8)\n",
        "x_valid = features[:250]\n",
        "y_valid = target[:250]"
      ],
      "execution_count": 0,
      "outputs": []
    },
    {
      "cell_type": "code",
      "metadata": {
        "id": "Pi4i1cQFvEFp",
        "colab_type": "code",
        "colab": {
          "base_uri": "https://localhost:8080/",
          "height": 228
        },
        "outputId": "18b2dd57-be97-43f7-844a-ee56a79cd81f"
      },
      "source": [
        "# Criando modelo\n",
        "modelo = Sequential()\n",
        "modelo.add(Dense(10, input_dim=6, activation='relu'))\n",
        "modelo.add(Dense(512, activation='relu'))\n",
        "modelo.add(Dropout(0.2))\n",
        "\n",
        "modelo.add(Dense(512, activation='relu'))\n",
        "modelo.add(Dropout(0.2))\n",
        "\n",
        "modelo.add(Dense(512, activation='relu'))\n",
        "modelo.add(Dropout(0.2))\n",
        "\n",
        "modelo.add(Dense(512, activation='relu'))\n",
        "modelo.add(Dropout(0.2))\n",
        "\n",
        "modelo.add(Dense(512, activation='relu'))\n",
        "modelo.add(Dropout(0.2))\n",
        "\n",
        "modelo.add(Dense(512, activation='relu'))\n",
        "modelo.add(Dropout(0.2))\n",
        "\n",
        "modelo.add(Dense(1, activation='sigmoid'))"
      ],
      "execution_count": 22,
      "outputs": [
        {
          "output_type": "stream",
          "text": [
            "WARNING:tensorflow:From /usr/local/lib/python3.6/dist-packages/keras/backend/tensorflow_backend.py:66: The name tf.get_default_graph is deprecated. Please use tf.compat.v1.get_default_graph instead.\n",
            "\n",
            "WARNING:tensorflow:From /usr/local/lib/python3.6/dist-packages/keras/backend/tensorflow_backend.py:541: The name tf.placeholder is deprecated. Please use tf.compat.v1.placeholder instead.\n",
            "\n",
            "WARNING:tensorflow:From /usr/local/lib/python3.6/dist-packages/keras/backend/tensorflow_backend.py:4432: The name tf.random_uniform is deprecated. Please use tf.random.uniform instead.\n",
            "\n",
            "WARNING:tensorflow:From /usr/local/lib/python3.6/dist-packages/keras/backend/tensorflow_backend.py:148: The name tf.placeholder_with_default is deprecated. Please use tf.compat.v1.placeholder_with_default instead.\n",
            "\n",
            "WARNING:tensorflow:From /usr/local/lib/python3.6/dist-packages/keras/backend/tensorflow_backend.py:3733: calling dropout (from tensorflow.python.ops.nn_ops) with keep_prob is deprecated and will be removed in a future version.\n",
            "Instructions for updating:\n",
            "Please use `rate` instead of `keep_prob`. Rate should be set to `rate = 1 - keep_prob`.\n"
          ],
          "name": "stdout"
        }
      ]
    },
    {
      "cell_type": "code",
      "metadata": {
        "id": "MsZiphALvEGA",
        "colab_type": "code",
        "colab": {
          "base_uri": "https://localhost:8080/",
          "height": 159
        },
        "outputId": "caf75d88-b433-4e21-9f60-aa1bad145a01"
      },
      "source": [
        "# Compilando o modelo\n",
        "modelo.compile(loss='binary_crossentropy', optimizer='adam', metrics=['accuracy'])"
      ],
      "execution_count": 23,
      "outputs": [
        {
          "output_type": "stream",
          "text": [
            "WARNING:tensorflow:From /usr/local/lib/python3.6/dist-packages/keras/optimizers.py:793: The name tf.train.Optimizer is deprecated. Please use tf.compat.v1.train.Optimizer instead.\n",
            "\n",
            "WARNING:tensorflow:From /usr/local/lib/python3.6/dist-packages/keras/backend/tensorflow_backend.py:3657: The name tf.log is deprecated. Please use tf.math.log instead.\n",
            "\n",
            "WARNING:tensorflow:From /usr/local/lib/python3.6/dist-packages/tensorflow_core/python/ops/nn_impl.py:183: where (from tensorflow.python.ops.array_ops) is deprecated and will be removed in a future version.\n",
            "Instructions for updating:\n",
            "Use tf.where in 2.0, which has the same broadcast rule as np.where\n"
          ],
          "name": "stdout"
        }
      ]
    },
    {
      "cell_type": "code",
      "metadata": {
        "id": "vtc36lNczSqu",
        "colab_type": "code",
        "colab": {}
      },
      "source": [
        "# Preparando para salvar o melhor resultado\n",
        "from keras.callbacks import ModelCheckpoint "
      ],
      "execution_count": 0,
      "outputs": []
    },
    {
      "cell_type": "code",
      "metadata": {
        "id": "pNRz-C35vEGX",
        "colab_type": "code",
        "colab": {
          "base_uri": "https://localhost:8080/",
          "height": 1000
        },
        "outputId": "fe1ad264-9149-435c-e74d-cf43a71c6b40"
      },
      "source": [
        "# Treinando modelo\n",
        "checkpointer = ModelCheckpoint(filepath='model.weights.best.hdf5', verbose=1, \n",
        "                               save_best_only=True)\n",
        "\n",
        "hist = modelo.fit(y_train, X_train, epochs=300, batch_size=10, validation_data=(x_valid, y_valid), callbacks=[checkpointer], verbose=2, shuffle=True)"
      ],
      "execution_count": 25,
      "outputs": [
        {
          "output_type": "stream",
          "text": [
            "WARNING:tensorflow:From /usr/local/lib/python3.6/dist-packages/keras/backend/tensorflow_backend.py:1033: The name tf.assign_add is deprecated. Please use tf.compat.v1.assign_add instead.\n",
            "\n",
            "WARNING:tensorflow:From /usr/local/lib/python3.6/dist-packages/keras/backend/tensorflow_backend.py:1020: The name tf.assign is deprecated. Please use tf.compat.v1.assign instead.\n",
            "\n",
            "WARNING:tensorflow:From /usr/local/lib/python3.6/dist-packages/keras/backend/tensorflow_backend.py:3005: The name tf.Session is deprecated. Please use tf.compat.v1.Session instead.\n",
            "\n",
            "Train on 1484 samples, validate on 250 samples\n",
            "Epoch 1/300\n",
            "WARNING:tensorflow:From /usr/local/lib/python3.6/dist-packages/keras/backend/tensorflow_backend.py:190: The name tf.get_default_session is deprecated. Please use tf.compat.v1.get_default_session instead.\n",
            "\n",
            "WARNING:tensorflow:From /usr/local/lib/python3.6/dist-packages/keras/backend/tensorflow_backend.py:197: The name tf.ConfigProto is deprecated. Please use tf.compat.v1.ConfigProto instead.\n",
            "\n",
            "WARNING:tensorflow:From /usr/local/lib/python3.6/dist-packages/keras/backend/tensorflow_backend.py:207: The name tf.global_variables is deprecated. Please use tf.compat.v1.global_variables instead.\n",
            "\n",
            "WARNING:tensorflow:From /usr/local/lib/python3.6/dist-packages/keras/backend/tensorflow_backend.py:216: The name tf.is_variable_initialized is deprecated. Please use tf.compat.v1.is_variable_initialized instead.\n",
            "\n",
            "WARNING:tensorflow:From /usr/local/lib/python3.6/dist-packages/keras/backend/tensorflow_backend.py:223: The name tf.variables_initializer is deprecated. Please use tf.compat.v1.variables_initializer instead.\n",
            "\n",
            " - 10s - loss: 0.6605 - acc: 0.7358 - val_loss: 0.5155 - val_acc: 0.7880\n",
            "\n",
            "Epoch 00001: val_loss improved from inf to 0.51547, saving model to model.weights.best.hdf5\n",
            "Epoch 2/300\n",
            " - 1s - loss: 0.5661 - acc: 0.7682 - val_loss: 0.5607 - val_acc: 0.7880\n",
            "\n",
            "Epoch 00002: val_loss did not improve from 0.51547\n",
            "Epoch 3/300\n",
            " - 1s - loss: 0.5536 - acc: 0.7689 - val_loss: 0.5200 - val_acc: 0.7880\n",
            "\n",
            "Epoch 00003: val_loss did not improve from 0.51547\n",
            "Epoch 4/300\n",
            " - 1s - loss: 0.5588 - acc: 0.7689 - val_loss: 0.5092 - val_acc: 0.7880\n",
            "\n",
            "Epoch 00004: val_loss improved from 0.51547 to 0.50916, saving model to model.weights.best.hdf5\n",
            "Epoch 5/300\n",
            " - 1s - loss: 0.5552 - acc: 0.7689 - val_loss: 0.5171 - val_acc: 0.7880\n",
            "\n",
            "Epoch 00005: val_loss did not improve from 0.50916\n",
            "Epoch 6/300\n",
            " - 1s - loss: 0.5532 - acc: 0.7689 - val_loss: 0.5188 - val_acc: 0.7880\n",
            "\n",
            "Epoch 00006: val_loss did not improve from 0.50916\n",
            "Epoch 7/300\n",
            " - 1s - loss: 0.5474 - acc: 0.7689 - val_loss: 0.5105 - val_acc: 0.7880\n",
            "\n",
            "Epoch 00007: val_loss did not improve from 0.50916\n",
            "Epoch 8/300\n",
            " - 1s - loss: 0.5482 - acc: 0.7689 - val_loss: 0.5900 - val_acc: 0.7880\n",
            "\n",
            "Epoch 00008: val_loss did not improve from 0.50916\n",
            "Epoch 9/300\n",
            " - 1s - loss: 0.5436 - acc: 0.7689 - val_loss: 0.5118 - val_acc: 0.7880\n",
            "\n",
            "Epoch 00009: val_loss did not improve from 0.50916\n",
            "Epoch 10/300\n",
            " - 1s - loss: 0.5464 - acc: 0.7689 - val_loss: 0.5174 - val_acc: 0.7880\n",
            "\n",
            "Epoch 00010: val_loss did not improve from 0.50916\n",
            "Epoch 11/300\n",
            " - 1s - loss: 0.5471 - acc: 0.7689 - val_loss: 0.5163 - val_acc: 0.7880\n",
            "\n",
            "Epoch 00011: val_loss did not improve from 0.50916\n",
            "Epoch 12/300\n",
            " - 1s - loss: 0.5387 - acc: 0.7689 - val_loss: 0.5219 - val_acc: 0.7880\n",
            "\n",
            "Epoch 00012: val_loss did not improve from 0.50916\n",
            "Epoch 13/300\n",
            " - 1s - loss: 0.5446 - acc: 0.7689 - val_loss: 0.5274 - val_acc: 0.7880\n",
            "\n",
            "Epoch 00013: val_loss did not improve from 0.50916\n",
            "Epoch 14/300\n",
            " - 1s - loss: 0.5340 - acc: 0.7689 - val_loss: 0.5344 - val_acc: 0.7880\n",
            "\n",
            "Epoch 00014: val_loss did not improve from 0.50916\n",
            "Epoch 15/300\n",
            " - 1s - loss: 0.5429 - acc: 0.7689 - val_loss: 0.5189 - val_acc: 0.7880\n",
            "\n",
            "Epoch 00015: val_loss did not improve from 0.50916\n",
            "Epoch 16/300\n",
            " - 1s - loss: 0.5384 - acc: 0.7689 - val_loss: 0.5104 - val_acc: 0.7880\n",
            "\n",
            "Epoch 00016: val_loss did not improve from 0.50916\n",
            "Epoch 17/300\n",
            " - 1s - loss: 0.5434 - acc: 0.7689 - val_loss: 0.5247 - val_acc: 0.7880\n",
            "\n",
            "Epoch 00017: val_loss did not improve from 0.50916\n",
            "Epoch 18/300\n",
            " - 1s - loss: 0.5371 - acc: 0.7689 - val_loss: 0.5097 - val_acc: 0.7880\n",
            "\n",
            "Epoch 00018: val_loss did not improve from 0.50916\n",
            "Epoch 19/300\n",
            " - 1s - loss: 0.5383 - acc: 0.7682 - val_loss: 0.5101 - val_acc: 0.7880\n",
            "\n",
            "Epoch 00019: val_loss did not improve from 0.50916\n",
            "Epoch 20/300\n",
            " - 1s - loss: 0.5329 - acc: 0.7689 - val_loss: 0.5186 - val_acc: 0.7880\n",
            "\n",
            "Epoch 00020: val_loss did not improve from 0.50916\n",
            "Epoch 21/300\n",
            " - 1s - loss: 0.5341 - acc: 0.7682 - val_loss: 0.5338 - val_acc: 0.7880\n",
            "\n",
            "Epoch 00021: val_loss did not improve from 0.50916\n",
            "Epoch 22/300\n",
            " - 1s - loss: 0.5330 - acc: 0.7689 - val_loss: 0.5111 - val_acc: 0.7880\n",
            "\n",
            "Epoch 00022: val_loss did not improve from 0.50916\n",
            "Epoch 23/300\n",
            " - 1s - loss: 0.5336 - acc: 0.7689 - val_loss: 0.5246 - val_acc: 0.7880\n",
            "\n",
            "Epoch 00023: val_loss did not improve from 0.50916\n",
            "Epoch 24/300\n",
            " - 1s - loss: 0.5326 - acc: 0.7682 - val_loss: 0.5168 - val_acc: 0.7880\n",
            "\n",
            "Epoch 00024: val_loss did not improve from 0.50916\n",
            "Epoch 25/300\n",
            " - 1s - loss: 0.5380 - acc: 0.7695 - val_loss: 0.5276 - val_acc: 0.7880\n",
            "\n",
            "Epoch 00025: val_loss did not improve from 0.50916\n",
            "Epoch 26/300\n",
            " - 1s - loss: 0.5422 - acc: 0.7675 - val_loss: 0.5232 - val_acc: 0.7880\n",
            "\n",
            "Epoch 00026: val_loss did not improve from 0.50916\n",
            "Epoch 27/300\n",
            " - 1s - loss: 0.5334 - acc: 0.7702 - val_loss: 0.5043 - val_acc: 0.7880\n",
            "\n",
            "Epoch 00027: val_loss improved from 0.50916 to 0.50434, saving model to model.weights.best.hdf5\n",
            "Epoch 28/300\n",
            " - 1s - loss: 0.5323 - acc: 0.7689 - val_loss: 0.5107 - val_acc: 0.7880\n",
            "\n",
            "Epoch 00028: val_loss did not improve from 0.50434\n",
            "Epoch 29/300\n",
            " - 1s - loss: 0.5315 - acc: 0.7689 - val_loss: 0.5091 - val_acc: 0.7880\n",
            "\n",
            "Epoch 00029: val_loss did not improve from 0.50434\n",
            "Epoch 30/300\n",
            " - 1s - loss: 0.5311 - acc: 0.7689 - val_loss: 0.5074 - val_acc: 0.7880\n",
            "\n",
            "Epoch 00030: val_loss did not improve from 0.50434\n",
            "Epoch 31/300\n",
            " - 1s - loss: 0.5340 - acc: 0.7695 - val_loss: 0.5099 - val_acc: 0.7920\n",
            "\n",
            "Epoch 00031: val_loss did not improve from 0.50434\n",
            "Epoch 32/300\n",
            " - 1s - loss: 0.5274 - acc: 0.7682 - val_loss: 0.5199 - val_acc: 0.7880\n",
            "\n",
            "Epoch 00032: val_loss did not improve from 0.50434\n",
            "Epoch 33/300\n",
            " - 1s - loss: 0.5345 - acc: 0.7682 - val_loss: 0.5241 - val_acc: 0.7880\n",
            "\n",
            "Epoch 00033: val_loss did not improve from 0.50434\n",
            "Epoch 34/300\n",
            " - 1s - loss: 0.5351 - acc: 0.7682 - val_loss: 0.5151 - val_acc: 0.7960\n",
            "\n",
            "Epoch 00034: val_loss did not improve from 0.50434\n",
            "Epoch 35/300\n",
            " - 1s - loss: 0.5261 - acc: 0.7689 - val_loss: 0.5045 - val_acc: 0.7880\n",
            "\n",
            "Epoch 00035: val_loss did not improve from 0.50434\n",
            "Epoch 36/300\n",
            " - 1s - loss: 0.5287 - acc: 0.7682 - val_loss: 0.5042 - val_acc: 0.7880\n",
            "\n",
            "Epoch 00036: val_loss improved from 0.50434 to 0.50421, saving model to model.weights.best.hdf5\n",
            "Epoch 37/300\n",
            " - 1s - loss: 0.5273 - acc: 0.7702 - val_loss: 0.5144 - val_acc: 0.7880\n",
            "\n",
            "Epoch 00037: val_loss did not improve from 0.50421\n",
            "Epoch 38/300\n",
            " - 1s - loss: 0.5314 - acc: 0.7702 - val_loss: 0.5117 - val_acc: 0.7880\n",
            "\n",
            "Epoch 00038: val_loss did not improve from 0.50421\n",
            "Epoch 39/300\n",
            " - 1s - loss: 0.5313 - acc: 0.7682 - val_loss: 0.5040 - val_acc: 0.7880\n",
            "\n",
            "Epoch 00039: val_loss improved from 0.50421 to 0.50401, saving model to model.weights.best.hdf5\n",
            "Epoch 40/300\n",
            " - 1s - loss: 0.5279 - acc: 0.7695 - val_loss: 0.5056 - val_acc: 0.7880\n",
            "\n",
            "Epoch 00040: val_loss did not improve from 0.50401\n",
            "Epoch 41/300\n",
            " - 1s - loss: 0.5236 - acc: 0.7682 - val_loss: 0.5008 - val_acc: 0.7880\n",
            "\n",
            "Epoch 00041: val_loss improved from 0.50401 to 0.50075, saving model to model.weights.best.hdf5\n",
            "Epoch 42/300\n",
            " - 1s - loss: 0.5412 - acc: 0.7716 - val_loss: 0.5047 - val_acc: 0.7880\n",
            "\n",
            "Epoch 00042: val_loss did not improve from 0.50075\n",
            "Epoch 43/300\n",
            " - 1s - loss: 0.5295 - acc: 0.7716 - val_loss: 0.5151 - val_acc: 0.7840\n",
            "\n",
            "Epoch 00043: val_loss did not improve from 0.50075\n",
            "Epoch 44/300\n",
            " - 1s - loss: 0.5230 - acc: 0.7743 - val_loss: 0.5178 - val_acc: 0.7920\n",
            "\n",
            "Epoch 00044: val_loss did not improve from 0.50075\n",
            "Epoch 45/300\n",
            " - 1s - loss: 0.5279 - acc: 0.7689 - val_loss: 0.5014 - val_acc: 0.7880\n",
            "\n",
            "Epoch 00045: val_loss did not improve from 0.50075\n",
            "Epoch 46/300\n",
            " - 1s - loss: 0.5258 - acc: 0.7689 - val_loss: 0.4989 - val_acc: 0.7880\n",
            "\n",
            "Epoch 00046: val_loss improved from 0.50075 to 0.49888, saving model to model.weights.best.hdf5\n",
            "Epoch 47/300\n",
            " - 1s - loss: 0.5253 - acc: 0.7716 - val_loss: 0.5028 - val_acc: 0.8000\n",
            "\n",
            "Epoch 00047: val_loss did not improve from 0.49888\n",
            "Epoch 48/300\n",
            " - 1s - loss: 0.5203 - acc: 0.7722 - val_loss: 0.4887 - val_acc: 0.7960\n",
            "\n",
            "Epoch 00048: val_loss improved from 0.49888 to 0.48871, saving model to model.weights.best.hdf5\n",
            "Epoch 49/300\n",
            " - 1s - loss: 0.5300 - acc: 0.7722 - val_loss: 0.4993 - val_acc: 0.7880\n",
            "\n",
            "Epoch 00049: val_loss did not improve from 0.48871\n",
            "Epoch 50/300\n",
            " - 1s - loss: 0.5311 - acc: 0.7709 - val_loss: 0.5049 - val_acc: 0.7880\n",
            "\n",
            "Epoch 00050: val_loss did not improve from 0.48871\n",
            "Epoch 51/300\n",
            " - 1s - loss: 0.5235 - acc: 0.7716 - val_loss: 0.5112 - val_acc: 0.7880\n",
            "\n",
            "Epoch 00051: val_loss did not improve from 0.48871\n",
            "Epoch 52/300\n",
            " - 1s - loss: 0.5293 - acc: 0.7716 - val_loss: 0.5064 - val_acc: 0.7880\n",
            "\n",
            "Epoch 00052: val_loss did not improve from 0.48871\n",
            "Epoch 53/300\n",
            " - 1s - loss: 0.5200 - acc: 0.7689 - val_loss: 0.5155 - val_acc: 0.7880\n",
            "\n",
            "Epoch 00053: val_loss did not improve from 0.48871\n",
            "Epoch 54/300\n",
            " - 1s - loss: 0.5239 - acc: 0.7695 - val_loss: 0.5062 - val_acc: 0.7880\n",
            "\n",
            "Epoch 00054: val_loss did not improve from 0.48871\n",
            "Epoch 55/300\n",
            " - 1s - loss: 0.5186 - acc: 0.7722 - val_loss: 0.5119 - val_acc: 0.7880\n",
            "\n",
            "Epoch 00055: val_loss did not improve from 0.48871\n",
            "Epoch 56/300\n",
            " - 1s - loss: 0.5214 - acc: 0.7716 - val_loss: 0.5024 - val_acc: 0.7800\n",
            "\n",
            "Epoch 00056: val_loss did not improve from 0.48871\n",
            "Epoch 57/300\n",
            " - 1s - loss: 0.5271 - acc: 0.7722 - val_loss: 0.4918 - val_acc: 0.7920\n",
            "\n",
            "Epoch 00057: val_loss did not improve from 0.48871\n",
            "Epoch 58/300\n",
            " - 1s - loss: 0.5220 - acc: 0.7695 - val_loss: 0.5006 - val_acc: 0.7920\n",
            "\n",
            "Epoch 00058: val_loss did not improve from 0.48871\n",
            "Epoch 59/300\n",
            " - 1s - loss: 0.5219 - acc: 0.7675 - val_loss: 0.4940 - val_acc: 0.7920\n",
            "\n",
            "Epoch 00059: val_loss did not improve from 0.48871\n",
            "Epoch 60/300\n",
            " - 1s - loss: 0.5181 - acc: 0.7722 - val_loss: 0.5056 - val_acc: 0.7920\n",
            "\n",
            "Epoch 00060: val_loss did not improve from 0.48871\n",
            "Epoch 61/300\n",
            " - 1s - loss: 0.5222 - acc: 0.7722 - val_loss: 0.5041 - val_acc: 0.7880\n",
            "\n",
            "Epoch 00061: val_loss did not improve from 0.48871\n",
            "Epoch 62/300\n",
            " - 1s - loss: 0.5228 - acc: 0.7695 - val_loss: 0.5110 - val_acc: 0.7800\n",
            "\n",
            "Epoch 00062: val_loss did not improve from 0.48871\n",
            "Epoch 63/300\n",
            " - 1s - loss: 0.5257 - acc: 0.7722 - val_loss: 0.5398 - val_acc: 0.7880\n",
            "\n",
            "Epoch 00063: val_loss did not improve from 0.48871\n",
            "Epoch 64/300\n",
            " - 1s - loss: 0.5258 - acc: 0.7709 - val_loss: 0.5057 - val_acc: 0.7880\n",
            "\n",
            "Epoch 00064: val_loss did not improve from 0.48871\n",
            "Epoch 65/300\n",
            " - 1s - loss: 0.5176 - acc: 0.7722 - val_loss: 0.5099 - val_acc: 0.7920\n",
            "\n",
            "Epoch 00065: val_loss did not improve from 0.48871\n",
            "Epoch 66/300\n",
            " - 1s - loss: 0.5206 - acc: 0.7736 - val_loss: 0.5102 - val_acc: 0.7880\n",
            "\n",
            "Epoch 00066: val_loss did not improve from 0.48871\n",
            "Epoch 67/300\n",
            " - 1s - loss: 0.5157 - acc: 0.7736 - val_loss: 0.4956 - val_acc: 0.7960\n",
            "\n",
            "Epoch 00067: val_loss did not improve from 0.48871\n",
            "Epoch 68/300\n",
            " - 1s - loss: 0.5188 - acc: 0.7749 - val_loss: 0.4983 - val_acc: 0.7880\n",
            "\n",
            "Epoch 00068: val_loss did not improve from 0.48871\n",
            "Epoch 69/300\n",
            " - 1s - loss: 0.5173 - acc: 0.7722 - val_loss: 0.4985 - val_acc: 0.7880\n",
            "\n",
            "Epoch 00069: val_loss did not improve from 0.48871\n",
            "Epoch 70/300\n",
            " - 1s - loss: 0.5142 - acc: 0.7756 - val_loss: 0.5427 - val_acc: 0.7840\n",
            "\n",
            "Epoch 00070: val_loss did not improve from 0.48871\n",
            "Epoch 71/300\n",
            " - 1s - loss: 0.5274 - acc: 0.7749 - val_loss: 0.4931 - val_acc: 0.7960\n",
            "\n",
            "Epoch 00071: val_loss did not improve from 0.48871\n",
            "Epoch 72/300\n",
            " - 1s - loss: 0.5214 - acc: 0.7743 - val_loss: 0.4913 - val_acc: 0.7920\n",
            "\n",
            "Epoch 00072: val_loss did not improve from 0.48871\n",
            "Epoch 73/300\n",
            " - 1s - loss: 0.5190 - acc: 0.7743 - val_loss: 0.4995 - val_acc: 0.7880\n",
            "\n",
            "Epoch 00073: val_loss did not improve from 0.48871\n",
            "Epoch 74/300\n",
            " - 1s - loss: 0.5193 - acc: 0.7729 - val_loss: 0.5024 - val_acc: 0.7960\n",
            "\n",
            "Epoch 00074: val_loss did not improve from 0.48871\n",
            "Epoch 75/300\n",
            " - 1s - loss: 0.5139 - acc: 0.7790 - val_loss: 0.5075 - val_acc: 0.7880\n",
            "\n",
            "Epoch 00075: val_loss did not improve from 0.48871\n",
            "Epoch 76/300\n",
            " - 1s - loss: 0.5111 - acc: 0.7756 - val_loss: 0.5014 - val_acc: 0.7960\n",
            "\n",
            "Epoch 00076: val_loss did not improve from 0.48871\n",
            "Epoch 77/300\n",
            " - 1s - loss: 0.5136 - acc: 0.7776 - val_loss: 0.4925 - val_acc: 0.7880\n",
            "\n",
            "Epoch 00077: val_loss did not improve from 0.48871\n",
            "Epoch 78/300\n",
            " - 1s - loss: 0.5209 - acc: 0.7695 - val_loss: 0.5027 - val_acc: 0.7880\n",
            "\n",
            "Epoch 00078: val_loss did not improve from 0.48871\n",
            "Epoch 79/300\n",
            " - 1s - loss: 0.5211 - acc: 0.7736 - val_loss: 0.5126 - val_acc: 0.7920\n",
            "\n",
            "Epoch 00079: val_loss did not improve from 0.48871\n",
            "Epoch 80/300\n",
            " - 1s - loss: 0.5171 - acc: 0.7702 - val_loss: 0.4999 - val_acc: 0.7880\n",
            "\n",
            "Epoch 00080: val_loss did not improve from 0.48871\n",
            "Epoch 81/300\n",
            " - 1s - loss: 0.5179 - acc: 0.7722 - val_loss: 0.5196 - val_acc: 0.7840\n",
            "\n",
            "Epoch 00081: val_loss did not improve from 0.48871\n",
            "Epoch 82/300\n",
            " - 1s - loss: 0.5163 - acc: 0.7729 - val_loss: 0.5201 - val_acc: 0.7880\n",
            "\n",
            "Epoch 00082: val_loss did not improve from 0.48871\n",
            "Epoch 83/300\n",
            " - 1s - loss: 0.5106 - acc: 0.7783 - val_loss: 0.5049 - val_acc: 0.7920\n",
            "\n",
            "Epoch 00083: val_loss did not improve from 0.48871\n",
            "Epoch 84/300\n",
            " - 1s - loss: 0.5230 - acc: 0.7722 - val_loss: 0.5176 - val_acc: 0.7800\n",
            "\n",
            "Epoch 00084: val_loss did not improve from 0.48871\n",
            "Epoch 85/300\n",
            " - 1s - loss: 0.5152 - acc: 0.7736 - val_loss: 0.5007 - val_acc: 0.7880\n",
            "\n",
            "Epoch 00085: val_loss did not improve from 0.48871\n",
            "Epoch 86/300\n",
            " - 1s - loss: 0.5218 - acc: 0.7743 - val_loss: 0.4976 - val_acc: 0.7880\n",
            "\n",
            "Epoch 00086: val_loss did not improve from 0.48871\n",
            "Epoch 87/300\n",
            " - 1s - loss: 0.5129 - acc: 0.7736 - val_loss: 0.4941 - val_acc: 0.7880\n",
            "\n",
            "Epoch 00087: val_loss did not improve from 0.48871\n",
            "Epoch 88/300\n",
            " - 1s - loss: 0.5172 - acc: 0.7763 - val_loss: 0.5011 - val_acc: 0.7880\n",
            "\n",
            "Epoch 00088: val_loss did not improve from 0.48871\n",
            "Epoch 89/300\n",
            " - 1s - loss: 0.5180 - acc: 0.7790 - val_loss: 0.5150 - val_acc: 0.7840\n",
            "\n",
            "Epoch 00089: val_loss did not improve from 0.48871\n",
            "Epoch 90/300\n",
            " - 1s - loss: 0.5215 - acc: 0.7743 - val_loss: 0.4965 - val_acc: 0.7920\n",
            "\n",
            "Epoch 00090: val_loss did not improve from 0.48871\n",
            "Epoch 91/300\n",
            " - 1s - loss: 0.5105 - acc: 0.7770 - val_loss: 0.4917 - val_acc: 0.7920\n",
            "\n",
            "Epoch 00091: val_loss did not improve from 0.48871\n",
            "Epoch 92/300\n",
            " - 1s - loss: 0.5162 - acc: 0.7803 - val_loss: 0.5145 - val_acc: 0.7880\n",
            "\n",
            "Epoch 00092: val_loss did not improve from 0.48871\n",
            "Epoch 93/300\n",
            " - 1s - loss: 0.5243 - acc: 0.7729 - val_loss: 0.4877 - val_acc: 0.7880\n",
            "\n",
            "Epoch 00093: val_loss improved from 0.48871 to 0.48773, saving model to model.weights.best.hdf5\n",
            "Epoch 94/300\n",
            " - 1s - loss: 0.5172 - acc: 0.7743 - val_loss: 0.4912 - val_acc: 0.7880\n",
            "\n",
            "Epoch 00094: val_loss did not improve from 0.48773\n",
            "Epoch 95/300\n",
            " - 1s - loss: 0.5150 - acc: 0.7729 - val_loss: 0.5039 - val_acc: 0.7800\n",
            "\n",
            "Epoch 00095: val_loss did not improve from 0.48773\n",
            "Epoch 96/300\n",
            " - 1s - loss: 0.5177 - acc: 0.7749 - val_loss: 0.5017 - val_acc: 0.7880\n",
            "\n",
            "Epoch 00096: val_loss did not improve from 0.48773\n",
            "Epoch 97/300\n",
            " - 1s - loss: 0.5205 - acc: 0.7743 - val_loss: 0.4978 - val_acc: 0.7920\n",
            "\n",
            "Epoch 00097: val_loss did not improve from 0.48773\n",
            "Epoch 98/300\n",
            " - 1s - loss: 0.5107 - acc: 0.7770 - val_loss: 0.5054 - val_acc: 0.7880\n",
            "\n",
            "Epoch 00098: val_loss did not improve from 0.48773\n",
            "Epoch 99/300\n",
            " - 1s - loss: 0.5264 - acc: 0.7743 - val_loss: 0.5150 - val_acc: 0.7920\n",
            "\n",
            "Epoch 00099: val_loss did not improve from 0.48773\n",
            "Epoch 100/300\n",
            " - 1s - loss: 0.5136 - acc: 0.7743 - val_loss: 0.5708 - val_acc: 0.7800\n",
            "\n",
            "Epoch 00100: val_loss did not improve from 0.48773\n",
            "Epoch 101/300\n",
            " - 1s - loss: 0.5294 - acc: 0.7743 - val_loss: 0.4963 - val_acc: 0.7880\n",
            "\n",
            "Epoch 00101: val_loss did not improve from 0.48773\n",
            "Epoch 102/300\n",
            " - 1s - loss: 0.5138 - acc: 0.7776 - val_loss: 0.4938 - val_acc: 0.7920\n",
            "\n",
            "Epoch 00102: val_loss did not improve from 0.48773\n",
            "Epoch 103/300\n",
            " - 1s - loss: 0.5092 - acc: 0.7763 - val_loss: 0.5100 - val_acc: 0.7920\n",
            "\n",
            "Epoch 00103: val_loss did not improve from 0.48773\n",
            "Epoch 104/300\n",
            " - 1s - loss: 0.5162 - acc: 0.7743 - val_loss: 0.5257 - val_acc: 0.7840\n",
            "\n",
            "Epoch 00104: val_loss did not improve from 0.48773\n",
            "Epoch 105/300\n",
            " - 1s - loss: 0.5226 - acc: 0.7790 - val_loss: 0.5605 - val_acc: 0.7880\n",
            "\n",
            "Epoch 00105: val_loss did not improve from 0.48773\n",
            "Epoch 106/300\n",
            " - 1s - loss: 0.5222 - acc: 0.7743 - val_loss: 0.5093 - val_acc: 0.7880\n",
            "\n",
            "Epoch 00106: val_loss did not improve from 0.48773\n",
            "Epoch 107/300\n",
            " - 1s - loss: 0.5251 - acc: 0.7749 - val_loss: 0.5021 - val_acc: 0.7880\n",
            "\n",
            "Epoch 00107: val_loss did not improve from 0.48773\n",
            "Epoch 108/300\n",
            " - 1s - loss: 0.5112 - acc: 0.7803 - val_loss: 0.5353 - val_acc: 0.7880\n",
            "\n",
            "Epoch 00108: val_loss did not improve from 0.48773\n",
            "Epoch 109/300\n",
            " - 1s - loss: 0.5195 - acc: 0.7749 - val_loss: 0.4998 - val_acc: 0.7840\n",
            "\n",
            "Epoch 00109: val_loss did not improve from 0.48773\n",
            "Epoch 110/300\n",
            " - 1s - loss: 0.5134 - acc: 0.7763 - val_loss: 0.4944 - val_acc: 0.7880\n",
            "\n",
            "Epoch 00110: val_loss did not improve from 0.48773\n",
            "Epoch 111/300\n",
            " - 1s - loss: 0.5059 - acc: 0.7857 - val_loss: 0.5138 - val_acc: 0.7760\n",
            "\n",
            "Epoch 00111: val_loss did not improve from 0.48773\n",
            "Epoch 112/300\n",
            " - 1s - loss: 0.5145 - acc: 0.7770 - val_loss: 0.5175 - val_acc: 0.7840\n",
            "\n",
            "Epoch 00112: val_loss did not improve from 0.48773\n",
            "Epoch 113/300\n",
            " - 1s - loss: 0.5123 - acc: 0.7803 - val_loss: 0.5120 - val_acc: 0.7840\n",
            "\n",
            "Epoch 00113: val_loss did not improve from 0.48773\n",
            "Epoch 114/300\n",
            " - 1s - loss: 0.5210 - acc: 0.7776 - val_loss: 0.5029 - val_acc: 0.7840\n",
            "\n",
            "Epoch 00114: val_loss did not improve from 0.48773\n",
            "Epoch 115/300\n",
            " - 1s - loss: 0.5168 - acc: 0.7743 - val_loss: 0.5290 - val_acc: 0.7880\n",
            "\n",
            "Epoch 00115: val_loss did not improve from 0.48773\n",
            "Epoch 116/300\n",
            " - 1s - loss: 0.5127 - acc: 0.7736 - val_loss: 0.4960 - val_acc: 0.7880\n",
            "\n",
            "Epoch 00116: val_loss did not improve from 0.48773\n",
            "Epoch 117/300\n",
            " - 1s - loss: 0.5077 - acc: 0.7770 - val_loss: 0.5157 - val_acc: 0.7920\n",
            "\n",
            "Epoch 00117: val_loss did not improve from 0.48773\n",
            "Epoch 118/300\n",
            " - 1s - loss: 0.5122 - acc: 0.7776 - val_loss: 0.4922 - val_acc: 0.7880\n",
            "\n",
            "Epoch 00118: val_loss did not improve from 0.48773\n",
            "Epoch 119/300\n",
            " - 1s - loss: 0.5174 - acc: 0.7736 - val_loss: 0.4938 - val_acc: 0.7880\n",
            "\n",
            "Epoch 00119: val_loss did not improve from 0.48773\n",
            "Epoch 120/300\n",
            " - 1s - loss: 0.5148 - acc: 0.7770 - val_loss: 0.5019 - val_acc: 0.7920\n",
            "\n",
            "Epoch 00120: val_loss did not improve from 0.48773\n",
            "Epoch 121/300\n",
            " - 1s - loss: 0.5098 - acc: 0.7790 - val_loss: 0.4986 - val_acc: 0.7840\n",
            "\n",
            "Epoch 00121: val_loss did not improve from 0.48773\n",
            "Epoch 122/300\n",
            " - 1s - loss: 0.4998 - acc: 0.7790 - val_loss: 0.5136 - val_acc: 0.7880\n",
            "\n",
            "Epoch 00122: val_loss did not improve from 0.48773\n",
            "Epoch 123/300\n",
            " - 1s - loss: 0.5243 - acc: 0.7756 - val_loss: 0.4934 - val_acc: 0.7920\n",
            "\n",
            "Epoch 00123: val_loss did not improve from 0.48773\n",
            "Epoch 124/300\n",
            " - 1s - loss: 0.5163 - acc: 0.7749 - val_loss: 0.4969 - val_acc: 0.7920\n",
            "\n",
            "Epoch 00124: val_loss did not improve from 0.48773\n",
            "Epoch 125/300\n",
            " - 1s - loss: 0.5111 - acc: 0.7756 - val_loss: 0.5006 - val_acc: 0.7880\n",
            "\n",
            "Epoch 00125: val_loss did not improve from 0.48773\n",
            "Epoch 126/300\n",
            " - 1s - loss: 0.5185 - acc: 0.7729 - val_loss: 0.4925 - val_acc: 0.7880\n",
            "\n",
            "Epoch 00126: val_loss did not improve from 0.48773\n",
            "Epoch 127/300\n",
            " - 1s - loss: 0.5110 - acc: 0.7763 - val_loss: 0.4971 - val_acc: 0.7880\n",
            "\n",
            "Epoch 00127: val_loss did not improve from 0.48773\n",
            "Epoch 128/300\n",
            " - 1s - loss: 0.5081 - acc: 0.7810 - val_loss: 0.5263 - val_acc: 0.7880\n",
            "\n",
            "Epoch 00128: val_loss did not improve from 0.48773\n",
            "Epoch 129/300\n",
            " - 1s - loss: 0.5321 - acc: 0.7682 - val_loss: 0.5120 - val_acc: 0.7880\n",
            "\n",
            "Epoch 00129: val_loss did not improve from 0.48773\n",
            "Epoch 130/300\n",
            " - 1s - loss: 0.5245 - acc: 0.7729 - val_loss: 0.5171 - val_acc: 0.7880\n",
            "\n",
            "Epoch 00130: val_loss did not improve from 0.48773\n",
            "Epoch 131/300\n",
            " - 1s - loss: 0.5227 - acc: 0.7749 - val_loss: 0.5156 - val_acc: 0.7840\n",
            "\n",
            "Epoch 00131: val_loss did not improve from 0.48773\n",
            "Epoch 132/300\n",
            " - 1s - loss: 0.5085 - acc: 0.7790 - val_loss: 0.5187 - val_acc: 0.7800\n",
            "\n",
            "Epoch 00132: val_loss did not improve from 0.48773\n",
            "Epoch 133/300\n",
            " - 1s - loss: 0.5095 - acc: 0.7729 - val_loss: 0.5194 - val_acc: 0.7840\n",
            "\n",
            "Epoch 00133: val_loss did not improve from 0.48773\n",
            "Epoch 134/300\n",
            " - 1s - loss: 0.5230 - acc: 0.7736 - val_loss: 0.5155 - val_acc: 0.7880\n",
            "\n",
            "Epoch 00134: val_loss did not improve from 0.48773\n",
            "Epoch 135/300\n",
            " - 1s - loss: 0.5005 - acc: 0.7776 - val_loss: 0.5621 - val_acc: 0.7840\n",
            "\n",
            "Epoch 00135: val_loss did not improve from 0.48773\n",
            "Epoch 136/300\n",
            " - 1s - loss: 0.5220 - acc: 0.7716 - val_loss: 0.5099 - val_acc: 0.7880\n",
            "\n",
            "Epoch 00136: val_loss did not improve from 0.48773\n",
            "Epoch 137/300\n",
            " - 1s - loss: 0.5128 - acc: 0.7736 - val_loss: 0.5076 - val_acc: 0.7840\n",
            "\n",
            "Epoch 00137: val_loss did not improve from 0.48773\n",
            "Epoch 138/300\n",
            " - 1s - loss: 0.5144 - acc: 0.7763 - val_loss: 0.5131 - val_acc: 0.7800\n",
            "\n",
            "Epoch 00138: val_loss did not improve from 0.48773\n",
            "Epoch 139/300\n",
            " - 1s - loss: 0.5087 - acc: 0.7729 - val_loss: 0.4972 - val_acc: 0.7800\n",
            "\n",
            "Epoch 00139: val_loss did not improve from 0.48773\n",
            "Epoch 140/300\n",
            " - 1s - loss: 0.5011 - acc: 0.7749 - val_loss: 0.5344 - val_acc: 0.7920\n",
            "\n",
            "Epoch 00140: val_loss did not improve from 0.48773\n",
            "Epoch 141/300\n",
            " - 1s - loss: 0.5024 - acc: 0.7756 - val_loss: 0.4988 - val_acc: 0.7840\n",
            "\n",
            "Epoch 00141: val_loss did not improve from 0.48773\n",
            "Epoch 142/300\n",
            " - 1s - loss: 0.5120 - acc: 0.7763 - val_loss: 0.5030 - val_acc: 0.7880\n",
            "\n",
            "Epoch 00142: val_loss did not improve from 0.48773\n",
            "Epoch 143/300\n",
            " - 1s - loss: 0.5098 - acc: 0.7776 - val_loss: 0.5090 - val_acc: 0.7920\n",
            "\n",
            "Epoch 00143: val_loss did not improve from 0.48773\n",
            "Epoch 144/300\n",
            " - 1s - loss: 0.5090 - acc: 0.7756 - val_loss: 0.5227 - val_acc: 0.7880\n",
            "\n",
            "Epoch 00144: val_loss did not improve from 0.48773\n",
            "Epoch 145/300\n",
            " - 1s - loss: 0.4970 - acc: 0.7810 - val_loss: 0.5856 - val_acc: 0.7880\n",
            "\n",
            "Epoch 00145: val_loss did not improve from 0.48773\n",
            "Epoch 146/300\n",
            " - 1s - loss: 0.5026 - acc: 0.7844 - val_loss: 0.5403 - val_acc: 0.7920\n",
            "\n",
            "Epoch 00146: val_loss did not improve from 0.48773\n",
            "Epoch 147/300\n",
            " - 1s - loss: 0.5017 - acc: 0.7796 - val_loss: 0.6125 - val_acc: 0.7880\n",
            "\n",
            "Epoch 00147: val_loss did not improve from 0.48773\n",
            "Epoch 148/300\n",
            " - 1s - loss: 0.5054 - acc: 0.7790 - val_loss: 0.5551 - val_acc: 0.7920\n",
            "\n",
            "Epoch 00148: val_loss did not improve from 0.48773\n",
            "Epoch 149/300\n",
            " - 1s - loss: 0.5004 - acc: 0.7810 - val_loss: 0.6232 - val_acc: 0.7840\n",
            "\n",
            "Epoch 00149: val_loss did not improve from 0.48773\n",
            "Epoch 150/300\n",
            " - 1s - loss: 0.5089 - acc: 0.7817 - val_loss: 0.5923 - val_acc: 0.7920\n",
            "\n",
            "Epoch 00150: val_loss did not improve from 0.48773\n",
            "Epoch 151/300\n",
            " - 1s - loss: 0.5111 - acc: 0.7770 - val_loss: 0.5077 - val_acc: 0.7880\n",
            "\n",
            "Epoch 00151: val_loss did not improve from 0.48773\n",
            "Epoch 152/300\n",
            " - 1s - loss: 0.5039 - acc: 0.7796 - val_loss: 0.5261 - val_acc: 0.7880\n",
            "\n",
            "Epoch 00152: val_loss did not improve from 0.48773\n",
            "Epoch 153/300\n",
            " - 1s - loss: 0.5116 - acc: 0.7776 - val_loss: 0.5015 - val_acc: 0.7920\n",
            "\n",
            "Epoch 00153: val_loss did not improve from 0.48773\n",
            "Epoch 154/300\n",
            " - 1s - loss: 0.5054 - acc: 0.7743 - val_loss: 0.5142 - val_acc: 0.7880\n",
            "\n",
            "Epoch 00154: val_loss did not improve from 0.48773\n",
            "Epoch 155/300\n",
            " - 1s - loss: 0.4975 - acc: 0.7823 - val_loss: 0.5607 - val_acc: 0.7880\n",
            "\n",
            "Epoch 00155: val_loss did not improve from 0.48773\n",
            "Epoch 156/300\n",
            " - 1s - loss: 0.4960 - acc: 0.7817 - val_loss: 0.5549 - val_acc: 0.7800\n",
            "\n",
            "Epoch 00156: val_loss did not improve from 0.48773\n",
            "Epoch 157/300\n",
            " - 1s - loss: 0.5015 - acc: 0.7817 - val_loss: 0.5278 - val_acc: 0.7840\n",
            "\n",
            "Epoch 00157: val_loss did not improve from 0.48773\n",
            "Epoch 158/300\n",
            " - 1s - loss: 0.5107 - acc: 0.7736 - val_loss: 0.5017 - val_acc: 0.7840\n",
            "\n",
            "Epoch 00158: val_loss did not improve from 0.48773\n",
            "Epoch 159/300\n",
            " - 1s - loss: 0.5058 - acc: 0.7770 - val_loss: 0.5403 - val_acc: 0.7880\n",
            "\n",
            "Epoch 00159: val_loss did not improve from 0.48773\n",
            "Epoch 160/300\n",
            " - 1s - loss: 0.4987 - acc: 0.7790 - val_loss: 0.5588 - val_acc: 0.7880\n",
            "\n",
            "Epoch 00160: val_loss did not improve from 0.48773\n",
            "Epoch 161/300\n",
            " - 1s - loss: 0.4926 - acc: 0.7837 - val_loss: 0.6082 - val_acc: 0.7840\n",
            "\n",
            "Epoch 00161: val_loss did not improve from 0.48773\n",
            "Epoch 162/300\n",
            " - 1s - loss: 0.5213 - acc: 0.7709 - val_loss: 0.4989 - val_acc: 0.7880\n",
            "\n",
            "Epoch 00162: val_loss did not improve from 0.48773\n",
            "Epoch 163/300\n",
            " - 1s - loss: 0.5022 - acc: 0.7763 - val_loss: 0.5320 - val_acc: 0.7800\n",
            "\n",
            "Epoch 00163: val_loss did not improve from 0.48773\n",
            "Epoch 164/300\n",
            " - 1s - loss: 0.4959 - acc: 0.7796 - val_loss: 0.4987 - val_acc: 0.7800\n",
            "\n",
            "Epoch 00164: val_loss did not improve from 0.48773\n",
            "Epoch 165/300\n",
            " - 1s - loss: 0.5008 - acc: 0.7729 - val_loss: 0.5482 - val_acc: 0.7840\n",
            "\n",
            "Epoch 00165: val_loss did not improve from 0.48773\n",
            "Epoch 166/300\n",
            " - 1s - loss: 0.5175 - acc: 0.7810 - val_loss: 0.5160 - val_acc: 0.7840\n",
            "\n",
            "Epoch 00166: val_loss did not improve from 0.48773\n",
            "Epoch 167/300\n",
            " - 1s - loss: 0.5069 - acc: 0.7783 - val_loss: 0.5151 - val_acc: 0.7840\n",
            "\n",
            "Epoch 00167: val_loss did not improve from 0.48773\n",
            "Epoch 168/300\n",
            " - 1s - loss: 0.5044 - acc: 0.7830 - val_loss: 0.5717 - val_acc: 0.7880\n",
            "\n",
            "Epoch 00168: val_loss did not improve from 0.48773\n",
            "Epoch 169/300\n",
            " - 1s - loss: 0.5289 - acc: 0.7716 - val_loss: 0.5041 - val_acc: 0.7880\n",
            "\n",
            "Epoch 00169: val_loss did not improve from 0.48773\n",
            "Epoch 170/300\n",
            " - 1s - loss: 0.5222 - acc: 0.7716 - val_loss: 0.5009 - val_acc: 0.7880\n",
            "\n",
            "Epoch 00170: val_loss did not improve from 0.48773\n",
            "Epoch 171/300\n",
            " - 1s - loss: 0.5276 - acc: 0.7722 - val_loss: 0.5002 - val_acc: 0.7880\n",
            "\n",
            "Epoch 00171: val_loss did not improve from 0.48773\n",
            "Epoch 172/300\n",
            " - 1s - loss: 0.5115 - acc: 0.7736 - val_loss: 0.5021 - val_acc: 0.7880\n",
            "\n",
            "Epoch 00172: val_loss did not improve from 0.48773\n",
            "Epoch 173/300\n",
            " - 1s - loss: 0.5015 - acc: 0.7756 - val_loss: 0.5112 - val_acc: 0.7800\n",
            "\n",
            "Epoch 00173: val_loss did not improve from 0.48773\n",
            "Epoch 174/300\n",
            " - 1s - loss: 0.5073 - acc: 0.7830 - val_loss: 0.5063 - val_acc: 0.7880\n",
            "\n",
            "Epoch 00174: val_loss did not improve from 0.48773\n",
            "Epoch 175/300\n",
            " - 1s - loss: 0.4999 - acc: 0.7817 - val_loss: 0.5244 - val_acc: 0.7840\n",
            "\n",
            "Epoch 00175: val_loss did not improve from 0.48773\n",
            "Epoch 176/300\n",
            " - 1s - loss: 0.4974 - acc: 0.7770 - val_loss: 0.5039 - val_acc: 0.7840\n",
            "\n",
            "Epoch 00176: val_loss did not improve from 0.48773\n",
            "Epoch 177/300\n",
            " - 1s - loss: 0.5001 - acc: 0.7783 - val_loss: 0.4969 - val_acc: 0.7840\n",
            "\n",
            "Epoch 00177: val_loss did not improve from 0.48773\n",
            "Epoch 178/300\n",
            " - 1s - loss: 0.5032 - acc: 0.7803 - val_loss: 0.5721 - val_acc: 0.7840\n",
            "\n",
            "Epoch 00178: val_loss did not improve from 0.48773\n",
            "Epoch 179/300\n",
            " - 1s - loss: 0.5056 - acc: 0.7790 - val_loss: 0.4981 - val_acc: 0.7800\n",
            "\n",
            "Epoch 00179: val_loss did not improve from 0.48773\n",
            "Epoch 180/300\n",
            " - 1s - loss: 0.5007 - acc: 0.7790 - val_loss: 0.5698 - val_acc: 0.7840\n",
            "\n",
            "Epoch 00180: val_loss did not improve from 0.48773\n",
            "Epoch 181/300\n",
            " - 1s - loss: 0.5049 - acc: 0.7756 - val_loss: 0.5212 - val_acc: 0.7920\n",
            "\n",
            "Epoch 00181: val_loss did not improve from 0.48773\n",
            "Epoch 182/300\n",
            " - 1s - loss: 0.5048 - acc: 0.7763 - val_loss: 0.4969 - val_acc: 0.7840\n",
            "\n",
            "Epoch 00182: val_loss did not improve from 0.48773\n",
            "Epoch 183/300\n",
            " - 1s - loss: 0.4978 - acc: 0.7770 - val_loss: 0.4962 - val_acc: 0.7880\n",
            "\n",
            "Epoch 00183: val_loss did not improve from 0.48773\n",
            "Epoch 184/300\n",
            " - 1s - loss: 0.5002 - acc: 0.7756 - val_loss: 0.4933 - val_acc: 0.7920\n",
            "\n",
            "Epoch 00184: val_loss did not improve from 0.48773\n",
            "Epoch 185/300\n",
            " - 1s - loss: 0.4943 - acc: 0.7810 - val_loss: 0.5482 - val_acc: 0.7880\n",
            "\n",
            "Epoch 00185: val_loss did not improve from 0.48773\n",
            "Epoch 186/300\n",
            " - 1s - loss: 0.4881 - acc: 0.7844 - val_loss: 0.5499 - val_acc: 0.7880\n",
            "\n",
            "Epoch 00186: val_loss did not improve from 0.48773\n",
            "Epoch 187/300\n",
            " - 1s - loss: 0.5025 - acc: 0.7783 - val_loss: 0.5368 - val_acc: 0.7800\n",
            "\n",
            "Epoch 00187: val_loss did not improve from 0.48773\n",
            "Epoch 188/300\n",
            " - 1s - loss: 0.4995 - acc: 0.7803 - val_loss: 0.5885 - val_acc: 0.7920\n",
            "\n",
            "Epoch 00188: val_loss did not improve from 0.48773\n",
            "Epoch 189/300\n",
            " - 1s - loss: 0.5118 - acc: 0.7776 - val_loss: 0.5514 - val_acc: 0.7800\n",
            "\n",
            "Epoch 00189: val_loss did not improve from 0.48773\n",
            "Epoch 190/300\n",
            " - 1s - loss: 0.4981 - acc: 0.7776 - val_loss: 0.5113 - val_acc: 0.7880\n",
            "\n",
            "Epoch 00190: val_loss did not improve from 0.48773\n",
            "Epoch 191/300\n",
            " - 1s - loss: 0.5047 - acc: 0.7783 - val_loss: 0.5181 - val_acc: 0.7840\n",
            "\n",
            "Epoch 00191: val_loss did not improve from 0.48773\n",
            "Epoch 192/300\n",
            " - 1s - loss: 0.4978 - acc: 0.7796 - val_loss: 0.5186 - val_acc: 0.7960\n",
            "\n",
            "Epoch 00192: val_loss did not improve from 0.48773\n",
            "Epoch 193/300\n",
            " - 1s - loss: 0.4960 - acc: 0.7823 - val_loss: 0.6125 - val_acc: 0.7840\n",
            "\n",
            "Epoch 00193: val_loss did not improve from 0.48773\n",
            "Epoch 194/300\n",
            " - 1s - loss: 0.5041 - acc: 0.7803 - val_loss: 0.5034 - val_acc: 0.7840\n",
            "\n",
            "Epoch 00194: val_loss did not improve from 0.48773\n",
            "Epoch 195/300\n",
            " - 1s - loss: 0.5038 - acc: 0.7749 - val_loss: 0.5066 - val_acc: 0.7840\n",
            "\n",
            "Epoch 00195: val_loss did not improve from 0.48773\n",
            "Epoch 196/300\n",
            " - 1s - loss: 0.4984 - acc: 0.7810 - val_loss: 0.5097 - val_acc: 0.7840\n",
            "\n",
            "Epoch 00196: val_loss did not improve from 0.48773\n",
            "Epoch 197/300\n",
            " - 1s - loss: 0.5003 - acc: 0.7790 - val_loss: 0.5102 - val_acc: 0.7920\n",
            "\n",
            "Epoch 00197: val_loss did not improve from 0.48773\n",
            "Epoch 198/300\n",
            " - 1s - loss: 0.5020 - acc: 0.7810 - val_loss: 0.5293 - val_acc: 0.7880\n",
            "\n",
            "Epoch 00198: val_loss did not improve from 0.48773\n",
            "Epoch 199/300\n",
            " - 1s - loss: 0.5158 - acc: 0.7783 - val_loss: 0.5211 - val_acc: 0.7840\n",
            "\n",
            "Epoch 00199: val_loss did not improve from 0.48773\n",
            "Epoch 200/300\n",
            " - 1s - loss: 0.5062 - acc: 0.7749 - val_loss: 0.5048 - val_acc: 0.7840\n",
            "\n",
            "Epoch 00200: val_loss did not improve from 0.48773\n",
            "Epoch 201/300\n",
            " - 1s - loss: 0.5123 - acc: 0.7763 - val_loss: 0.5080 - val_acc: 0.7840\n",
            "\n",
            "Epoch 00201: val_loss did not improve from 0.48773\n",
            "Epoch 202/300\n",
            " - 1s - loss: 0.5106 - acc: 0.7722 - val_loss: 0.4977 - val_acc: 0.7840\n",
            "\n",
            "Epoch 00202: val_loss did not improve from 0.48773\n",
            "Epoch 203/300\n",
            " - 1s - loss: 0.5045 - acc: 0.7783 - val_loss: 0.5185 - val_acc: 0.7800\n",
            "\n",
            "Epoch 00203: val_loss did not improve from 0.48773\n",
            "Epoch 204/300\n",
            " - 1s - loss: 0.5203 - acc: 0.7796 - val_loss: 0.5183 - val_acc: 0.7800\n",
            "\n",
            "Epoch 00204: val_loss did not improve from 0.48773\n",
            "Epoch 205/300\n",
            " - 1s - loss: 0.5055 - acc: 0.7749 - val_loss: 0.5357 - val_acc: 0.7960\n",
            "\n",
            "Epoch 00205: val_loss did not improve from 0.48773\n",
            "Epoch 206/300\n",
            " - 1s - loss: 0.5085 - acc: 0.7830 - val_loss: 0.5142 - val_acc: 0.7840\n",
            "\n",
            "Epoch 00206: val_loss did not improve from 0.48773\n",
            "Epoch 207/300\n",
            " - 1s - loss: 0.5050 - acc: 0.7770 - val_loss: 0.5104 - val_acc: 0.7840\n",
            "\n",
            "Epoch 00207: val_loss did not improve from 0.48773\n",
            "Epoch 208/300\n",
            " - 1s - loss: 0.5045 - acc: 0.7763 - val_loss: 0.5246 - val_acc: 0.7840\n",
            "\n",
            "Epoch 00208: val_loss did not improve from 0.48773\n",
            "Epoch 209/300\n",
            " - 1s - loss: 0.5031 - acc: 0.7810 - val_loss: 0.5449 - val_acc: 0.7880\n",
            "\n",
            "Epoch 00209: val_loss did not improve from 0.48773\n",
            "Epoch 210/300\n",
            " - 1s - loss: 0.4991 - acc: 0.7803 - val_loss: 0.5930 - val_acc: 0.7800\n",
            "\n",
            "Epoch 00210: val_loss did not improve from 0.48773\n",
            "Epoch 211/300\n",
            " - 1s - loss: 0.4995 - acc: 0.7763 - val_loss: 0.5790 - val_acc: 0.7880\n",
            "\n",
            "Epoch 00211: val_loss did not improve from 0.48773\n",
            "Epoch 212/300\n",
            " - 1s - loss: 0.4958 - acc: 0.7776 - val_loss: 0.5803 - val_acc: 0.7880\n",
            "\n",
            "Epoch 00212: val_loss did not improve from 0.48773\n",
            "Epoch 213/300\n",
            " - 1s - loss: 0.5235 - acc: 0.7716 - val_loss: 0.4915 - val_acc: 0.7880\n",
            "\n",
            "Epoch 00213: val_loss did not improve from 0.48773\n",
            "Epoch 214/300\n",
            " - 1s - loss: 0.5120 - acc: 0.7763 - val_loss: 0.5188 - val_acc: 0.7920\n",
            "\n",
            "Epoch 00214: val_loss did not improve from 0.48773\n",
            "Epoch 215/300\n",
            " - 1s - loss: 0.5081 - acc: 0.7783 - val_loss: 0.5074 - val_acc: 0.7800\n",
            "\n",
            "Epoch 00215: val_loss did not improve from 0.48773\n",
            "Epoch 216/300\n",
            " - 1s - loss: 0.5081 - acc: 0.7763 - val_loss: 0.5116 - val_acc: 0.7800\n",
            "\n",
            "Epoch 00216: val_loss did not improve from 0.48773\n",
            "Epoch 217/300\n",
            " - 1s - loss: 0.5006 - acc: 0.7844 - val_loss: 0.5298 - val_acc: 0.7800\n",
            "\n",
            "Epoch 00217: val_loss did not improve from 0.48773\n",
            "Epoch 218/300\n",
            " - 1s - loss: 0.4922 - acc: 0.7830 - val_loss: 0.6048 - val_acc: 0.7800\n",
            "\n",
            "Epoch 00218: val_loss did not improve from 0.48773\n",
            "Epoch 219/300\n",
            " - 1s - loss: 0.5049 - acc: 0.7817 - val_loss: 0.5463 - val_acc: 0.7800\n",
            "\n",
            "Epoch 00219: val_loss did not improve from 0.48773\n",
            "Epoch 220/300\n",
            " - 1s - loss: 0.5092 - acc: 0.7776 - val_loss: 0.5676 - val_acc: 0.7880\n",
            "\n",
            "Epoch 00220: val_loss did not improve from 0.48773\n",
            "Epoch 221/300\n",
            " - 1s - loss: 0.5117 - acc: 0.7743 - val_loss: 0.5567 - val_acc: 0.7800\n",
            "\n",
            "Epoch 00221: val_loss did not improve from 0.48773\n",
            "Epoch 222/300\n",
            " - 1s - loss: 0.5132 - acc: 0.7770 - val_loss: 0.5166 - val_acc: 0.7880\n",
            "\n",
            "Epoch 00222: val_loss did not improve from 0.48773\n",
            "Epoch 223/300\n",
            " - 1s - loss: 0.5092 - acc: 0.7749 - val_loss: 0.5421 - val_acc: 0.7800\n",
            "\n",
            "Epoch 00223: val_loss did not improve from 0.48773\n",
            "Epoch 224/300\n",
            " - 1s - loss: 0.5141 - acc: 0.7776 - val_loss: 0.5862 - val_acc: 0.7920\n",
            "\n",
            "Epoch 00224: val_loss did not improve from 0.48773\n",
            "Epoch 225/300\n",
            " - 1s - loss: 0.5053 - acc: 0.7736 - val_loss: 0.5651 - val_acc: 0.7840\n",
            "\n",
            "Epoch 00225: val_loss did not improve from 0.48773\n",
            "Epoch 226/300\n",
            " - 1s - loss: 0.4993 - acc: 0.7810 - val_loss: 0.6055 - val_acc: 0.7840\n",
            "\n",
            "Epoch 00226: val_loss did not improve from 0.48773\n",
            "Epoch 227/300\n",
            " - 1s - loss: 0.5115 - acc: 0.7749 - val_loss: 0.6164 - val_acc: 0.7880\n",
            "\n",
            "Epoch 00227: val_loss did not improve from 0.48773\n",
            "Epoch 228/300\n",
            " - 1s - loss: 0.4958 - acc: 0.7776 - val_loss: 0.5817 - val_acc: 0.7920\n",
            "\n",
            "Epoch 00228: val_loss did not improve from 0.48773\n",
            "Epoch 229/300\n",
            " - 1s - loss: 0.4959 - acc: 0.7817 - val_loss: 0.5994 - val_acc: 0.7920\n",
            "\n",
            "Epoch 00229: val_loss did not improve from 0.48773\n",
            "Epoch 230/300\n",
            " - 1s - loss: 0.5026 - acc: 0.7817 - val_loss: 0.5579 - val_acc: 0.7880\n",
            "\n",
            "Epoch 00230: val_loss did not improve from 0.48773\n",
            "Epoch 231/300\n",
            " - 1s - loss: 0.4980 - acc: 0.7749 - val_loss: 0.5662 - val_acc: 0.8000\n",
            "\n",
            "Epoch 00231: val_loss did not improve from 0.48773\n",
            "Epoch 232/300\n",
            " - 1s - loss: 0.4993 - acc: 0.7743 - val_loss: 0.4873 - val_acc: 0.7840\n",
            "\n",
            "Epoch 00232: val_loss improved from 0.48773 to 0.48725, saving model to model.weights.best.hdf5\n",
            "Epoch 233/300\n",
            " - 1s - loss: 0.5097 - acc: 0.7736 - val_loss: 0.4910 - val_acc: 0.7840\n",
            "\n",
            "Epoch 00233: val_loss did not improve from 0.48725\n",
            "Epoch 234/300\n",
            " - 1s - loss: 0.5011 - acc: 0.7884 - val_loss: 0.5677 - val_acc: 0.7880\n",
            "\n",
            "Epoch 00234: val_loss did not improve from 0.48725\n",
            "Epoch 235/300\n",
            " - 1s - loss: 0.4968 - acc: 0.7844 - val_loss: 0.6064 - val_acc: 0.7920\n",
            "\n",
            "Epoch 00235: val_loss did not improve from 0.48725\n",
            "Epoch 236/300\n",
            " - 1s - loss: 0.5002 - acc: 0.7857 - val_loss: 0.5510 - val_acc: 0.7960\n",
            "\n",
            "Epoch 00236: val_loss did not improve from 0.48725\n",
            "Epoch 237/300\n",
            " - 1s - loss: 0.5005 - acc: 0.7763 - val_loss: 0.5154 - val_acc: 0.7840\n",
            "\n",
            "Epoch 00237: val_loss did not improve from 0.48725\n",
            "Epoch 238/300\n",
            " - 1s - loss: 0.5186 - acc: 0.7783 - val_loss: 0.5109 - val_acc: 0.7960\n",
            "\n",
            "Epoch 00238: val_loss did not improve from 0.48725\n",
            "Epoch 239/300\n",
            " - 1s - loss: 0.4983 - acc: 0.7817 - val_loss: 0.5258 - val_acc: 0.7880\n",
            "\n",
            "Epoch 00239: val_loss did not improve from 0.48725\n",
            "Epoch 240/300\n",
            " - 1s - loss: 0.5342 - acc: 0.7756 - val_loss: 0.5048 - val_acc: 0.7880\n",
            "\n",
            "Epoch 00240: val_loss did not improve from 0.48725\n",
            "Epoch 241/300\n",
            " - 1s - loss: 0.5136 - acc: 0.7722 - val_loss: 0.5125 - val_acc: 0.7880\n",
            "\n",
            "Epoch 00241: val_loss did not improve from 0.48725\n",
            "Epoch 242/300\n",
            " - 1s - loss: 0.5279 - acc: 0.7790 - val_loss: 0.5305 - val_acc: 0.7920\n",
            "\n",
            "Epoch 00242: val_loss did not improve from 0.48725\n",
            "Epoch 243/300\n",
            " - 1s - loss: 0.5298 - acc: 0.7749 - val_loss: 0.4958 - val_acc: 0.7920\n",
            "\n",
            "Epoch 00243: val_loss did not improve from 0.48725\n",
            "Epoch 244/300\n",
            " - 1s - loss: 0.5204 - acc: 0.7716 - val_loss: 0.4966 - val_acc: 0.7880\n",
            "\n",
            "Epoch 00244: val_loss did not improve from 0.48725\n",
            "Epoch 245/300\n",
            " - 1s - loss: 0.5033 - acc: 0.7736 - val_loss: 0.4909 - val_acc: 0.7920\n",
            "\n",
            "Epoch 00245: val_loss did not improve from 0.48725\n",
            "Epoch 246/300\n",
            " - 1s - loss: 0.4992 - acc: 0.7803 - val_loss: 0.4938 - val_acc: 0.7920\n",
            "\n",
            "Epoch 00246: val_loss did not improve from 0.48725\n",
            "Epoch 247/300\n",
            " - 1s - loss: 0.5174 - acc: 0.7736 - val_loss: 0.4931 - val_acc: 0.7880\n",
            "\n",
            "Epoch 00247: val_loss did not improve from 0.48725\n",
            "Epoch 248/300\n",
            " - 1s - loss: 0.4917 - acc: 0.7810 - val_loss: 0.5174 - val_acc: 0.7880\n",
            "\n",
            "Epoch 00248: val_loss did not improve from 0.48725\n",
            "Epoch 249/300\n",
            " - 1s - loss: 0.4863 - acc: 0.7830 - val_loss: 0.5191 - val_acc: 0.7920\n",
            "\n",
            "Epoch 00249: val_loss did not improve from 0.48725\n",
            "Epoch 250/300\n",
            " - 1s - loss: 0.5017 - acc: 0.7823 - val_loss: 0.5814 - val_acc: 0.7880\n",
            "\n",
            "Epoch 00250: val_loss did not improve from 0.48725\n",
            "Epoch 251/300\n",
            " - 1s - loss: 0.5085 - acc: 0.7783 - val_loss: 0.4992 - val_acc: 0.7920\n",
            "\n",
            "Epoch 00251: val_loss did not improve from 0.48725\n",
            "Epoch 252/300\n",
            " - 1s - loss: 0.4983 - acc: 0.7790 - val_loss: 0.4903 - val_acc: 0.7800\n",
            "\n",
            "Epoch 00252: val_loss did not improve from 0.48725\n",
            "Epoch 253/300\n",
            " - 1s - loss: 0.5082 - acc: 0.7776 - val_loss: 0.4871 - val_acc: 0.7920\n",
            "\n",
            "Epoch 00253: val_loss improved from 0.48725 to 0.48707, saving model to model.weights.best.hdf5\n",
            "Epoch 254/300\n",
            " - 1s - loss: 0.5111 - acc: 0.7756 - val_loss: 0.5002 - val_acc: 0.7880\n",
            "\n",
            "Epoch 00254: val_loss did not improve from 0.48707\n",
            "Epoch 255/300\n",
            " - 1s - loss: 0.5242 - acc: 0.7736 - val_loss: 0.5009 - val_acc: 0.7880\n",
            "\n",
            "Epoch 00255: val_loss did not improve from 0.48707\n",
            "Epoch 256/300\n",
            " - 1s - loss: 0.5017 - acc: 0.7722 - val_loss: 0.4934 - val_acc: 0.7840\n",
            "\n",
            "Epoch 00256: val_loss did not improve from 0.48707\n",
            "Epoch 257/300\n",
            " - 1s - loss: 0.4955 - acc: 0.7844 - val_loss: 0.4956 - val_acc: 0.7960\n",
            "\n",
            "Epoch 00257: val_loss did not improve from 0.48707\n",
            "Epoch 258/300\n",
            " - 1s - loss: 0.4899 - acc: 0.7810 - val_loss: 0.5510 - val_acc: 0.8000\n",
            "\n",
            "Epoch 00258: val_loss did not improve from 0.48707\n",
            "Epoch 259/300\n",
            " - 1s - loss: 0.4979 - acc: 0.7783 - val_loss: 0.5036 - val_acc: 0.7800\n",
            "\n",
            "Epoch 00259: val_loss did not improve from 0.48707\n",
            "Epoch 260/300\n",
            " - 1s - loss: 0.5173 - acc: 0.7763 - val_loss: 0.5259 - val_acc: 0.7840\n",
            "\n",
            "Epoch 00260: val_loss did not improve from 0.48707\n",
            "Epoch 261/300\n",
            " - 1s - loss: 0.5191 - acc: 0.7736 - val_loss: 0.5162 - val_acc: 0.7800\n",
            "\n",
            "Epoch 00261: val_loss did not improve from 0.48707\n",
            "Epoch 262/300\n",
            " - 1s - loss: 0.5015 - acc: 0.7817 - val_loss: 0.5203 - val_acc: 0.7800\n",
            "\n",
            "Epoch 00262: val_loss did not improve from 0.48707\n",
            "Epoch 263/300\n",
            " - 1s - loss: 0.5183 - acc: 0.7776 - val_loss: 0.5077 - val_acc: 0.7920\n",
            "\n",
            "Epoch 00263: val_loss did not improve from 0.48707\n",
            "Epoch 264/300\n",
            " - 1s - loss: 0.5007 - acc: 0.7850 - val_loss: 0.5524 - val_acc: 0.7960\n",
            "\n",
            "Epoch 00264: val_loss did not improve from 0.48707\n",
            "Epoch 265/300\n",
            " - 1s - loss: 0.5047 - acc: 0.7749 - val_loss: 0.5642 - val_acc: 0.7920\n",
            "\n",
            "Epoch 00265: val_loss did not improve from 0.48707\n",
            "Epoch 266/300\n",
            " - 1s - loss: 0.5110 - acc: 0.7830 - val_loss: 0.5077 - val_acc: 0.7760\n",
            "\n",
            "Epoch 00266: val_loss did not improve from 0.48707\n",
            "Epoch 267/300\n",
            " - 1s - loss: 0.5073 - acc: 0.7763 - val_loss: 0.5152 - val_acc: 0.7800\n",
            "\n",
            "Epoch 00267: val_loss did not improve from 0.48707\n",
            "Epoch 268/300\n",
            " - 1s - loss: 0.5030 - acc: 0.7790 - val_loss: 0.5567 - val_acc: 0.7880\n",
            "\n",
            "Epoch 00268: val_loss did not improve from 0.48707\n",
            "Epoch 269/300\n",
            " - 1s - loss: 0.5034 - acc: 0.7722 - val_loss: 0.5438 - val_acc: 0.7840\n",
            "\n",
            "Epoch 00269: val_loss did not improve from 0.48707\n",
            "Epoch 270/300\n",
            " - 1s - loss: 0.4878 - acc: 0.7823 - val_loss: 0.5770 - val_acc: 0.7920\n",
            "\n",
            "Epoch 00270: val_loss did not improve from 0.48707\n",
            "Epoch 271/300\n",
            " - 1s - loss: 0.4927 - acc: 0.7850 - val_loss: 0.6234 - val_acc: 0.7800\n",
            "\n",
            "Epoch 00271: val_loss did not improve from 0.48707\n",
            "Epoch 272/300\n",
            " - 1s - loss: 0.4972 - acc: 0.7837 - val_loss: 0.6110 - val_acc: 0.7800\n",
            "\n",
            "Epoch 00272: val_loss did not improve from 0.48707\n",
            "Epoch 273/300\n",
            " - 1s - loss: 0.4891 - acc: 0.7817 - val_loss: 0.5475 - val_acc: 0.7880\n",
            "\n",
            "Epoch 00273: val_loss did not improve from 0.48707\n",
            "Epoch 274/300\n",
            " - 1s - loss: 0.4821 - acc: 0.7817 - val_loss: 0.5557 - val_acc: 0.7840\n",
            "\n",
            "Epoch 00274: val_loss did not improve from 0.48707\n",
            "Epoch 275/300\n",
            " - 1s - loss: 0.4925 - acc: 0.7817 - val_loss: 0.5519 - val_acc: 0.7840\n",
            "\n",
            "Epoch 00275: val_loss did not improve from 0.48707\n",
            "Epoch 276/300\n",
            " - 1s - loss: 0.5007 - acc: 0.7776 - val_loss: 0.4978 - val_acc: 0.7920\n",
            "\n",
            "Epoch 00276: val_loss did not improve from 0.48707\n",
            "Epoch 277/300\n",
            " - 1s - loss: 0.4816 - acc: 0.7871 - val_loss: 0.4924 - val_acc: 0.7760\n",
            "\n",
            "Epoch 00277: val_loss did not improve from 0.48707\n",
            "Epoch 278/300\n",
            " - 1s - loss: 0.4908 - acc: 0.7803 - val_loss: 0.5050 - val_acc: 0.8000\n",
            "\n",
            "Epoch 00278: val_loss did not improve from 0.48707\n",
            "Epoch 279/300\n",
            " - 1s - loss: 0.4916 - acc: 0.7790 - val_loss: 0.4918 - val_acc: 0.7920\n",
            "\n",
            "Epoch 00279: val_loss did not improve from 0.48707\n",
            "Epoch 280/300\n",
            " - 1s - loss: 0.4850 - acc: 0.7857 - val_loss: 0.5613 - val_acc: 0.7920\n",
            "\n",
            "Epoch 00280: val_loss did not improve from 0.48707\n",
            "Epoch 281/300\n",
            " - 1s - loss: 0.4853 - acc: 0.7830 - val_loss: 0.6124 - val_acc: 0.7840\n",
            "\n",
            "Epoch 00281: val_loss did not improve from 0.48707\n",
            "Epoch 282/300\n",
            " - 1s - loss: 0.5315 - acc: 0.7743 - val_loss: 0.5119 - val_acc: 0.7840\n",
            "\n",
            "Epoch 00282: val_loss did not improve from 0.48707\n",
            "Epoch 283/300\n",
            " - 1s - loss: 0.5073 - acc: 0.7743 - val_loss: 0.5321 - val_acc: 0.7840\n",
            "\n",
            "Epoch 00283: val_loss did not improve from 0.48707\n",
            "Epoch 284/300\n",
            " - 1s - loss: 0.5001 - acc: 0.7776 - val_loss: 0.5183 - val_acc: 0.7880\n",
            "\n",
            "Epoch 00284: val_loss did not improve from 0.48707\n",
            "Epoch 285/300\n",
            " - 1s - loss: 0.5005 - acc: 0.7796 - val_loss: 0.5011 - val_acc: 0.7880\n",
            "\n",
            "Epoch 00285: val_loss did not improve from 0.48707\n",
            "Epoch 286/300\n",
            " - 1s - loss: 0.5089 - acc: 0.7749 - val_loss: 0.5130 - val_acc: 0.7840\n",
            "\n",
            "Epoch 00286: val_loss did not improve from 0.48707\n",
            "Epoch 287/300\n",
            " - 1s - loss: 0.4915 - acc: 0.7783 - val_loss: 0.5000 - val_acc: 0.7840\n",
            "\n",
            "Epoch 00287: val_loss did not improve from 0.48707\n",
            "Epoch 288/300\n",
            " - 1s - loss: 0.5218 - acc: 0.7776 - val_loss: 0.5175 - val_acc: 0.7880\n",
            "\n",
            "Epoch 00288: val_loss did not improve from 0.48707\n",
            "Epoch 289/300\n",
            " - 1s - loss: 0.4974 - acc: 0.7817 - val_loss: 0.5344 - val_acc: 0.7840\n",
            "\n",
            "Epoch 00289: val_loss did not improve from 0.48707\n",
            "Epoch 290/300\n",
            " - 1s - loss: 0.4939 - acc: 0.7850 - val_loss: 0.5204 - val_acc: 0.7880\n",
            "\n",
            "Epoch 00290: val_loss did not improve from 0.48707\n",
            "Epoch 291/300\n",
            " - 1s - loss: 0.5136 - acc: 0.7796 - val_loss: 0.5071 - val_acc: 0.7920\n",
            "\n",
            "Epoch 00291: val_loss did not improve from 0.48707\n",
            "Epoch 292/300\n",
            " - 1s - loss: 0.5074 - acc: 0.7776 - val_loss: 0.5051 - val_acc: 0.7880\n",
            "\n",
            "Epoch 00292: val_loss did not improve from 0.48707\n",
            "Epoch 293/300\n",
            " - 1s - loss: 0.5055 - acc: 0.7722 - val_loss: 0.5110 - val_acc: 0.7840\n",
            "\n",
            "Epoch 00293: val_loss did not improve from 0.48707\n",
            "Epoch 294/300\n",
            " - 1s - loss: 0.5008 - acc: 0.7783 - val_loss: 0.5097 - val_acc: 0.7840\n",
            "\n",
            "Epoch 00294: val_loss did not improve from 0.48707\n",
            "Epoch 295/300\n",
            " - 1s - loss: 0.5178 - acc: 0.7796 - val_loss: 0.5115 - val_acc: 0.7840\n",
            "\n",
            "Epoch 00295: val_loss did not improve from 0.48707\n",
            "Epoch 296/300\n",
            " - 1s - loss: 0.5030 - acc: 0.7763 - val_loss: 0.5278 - val_acc: 0.7800\n",
            "\n",
            "Epoch 00296: val_loss did not improve from 0.48707\n",
            "Epoch 297/300\n",
            " - 1s - loss: 0.5048 - acc: 0.7796 - val_loss: 0.5329 - val_acc: 0.7880\n",
            "\n",
            "Epoch 00297: val_loss did not improve from 0.48707\n",
            "Epoch 298/300\n",
            " - 1s - loss: 0.4945 - acc: 0.7850 - val_loss: 0.5307 - val_acc: 0.7880\n",
            "\n",
            "Epoch 00298: val_loss did not improve from 0.48707\n",
            "Epoch 299/300\n",
            " - 1s - loss: 0.5133 - acc: 0.7749 - val_loss: 0.5278 - val_acc: 0.7880\n",
            "\n",
            "Epoch 00299: val_loss did not improve from 0.48707\n",
            "Epoch 300/300\n",
            " - 1s - loss: 0.4985 - acc: 0.7796 - val_loss: 0.5186 - val_acc: 0.7880\n",
            "\n",
            "Epoch 00300: val_loss did not improve from 0.48707\n"
          ],
          "name": "stdout"
        }
      ]
    },
    {
      "cell_type": "markdown",
      "metadata": {
        "id": "wrnwZ7ONvEGv",
        "colab_type": "text"
      },
      "source": [
        "# Validando Modelo"
      ]
    },
    {
      "cell_type": "code",
      "metadata": {
        "id": "ksmPFQk21iDJ",
        "colab_type": "code",
        "colab": {
          "base_uri": "https://localhost:8080/",
          "height": 34
        },
        "outputId": "6957c9c0-a846-47a4-f454-883bc0f6e56b"
      },
      "source": [
        "!ls"
      ],
      "execution_count": 26,
      "outputs": [
        {
          "output_type": "stream",
          "text": [
            "model.weights.best.hdf5  RedeNeuralMegaSena  sample_data\n"
          ],
          "name": "stdout"
        }
      ]
    },
    {
      "cell_type": "code",
      "metadata": {
        "id": "vT5J_1b_0Wjk",
        "colab_type": "code",
        "colab": {}
      },
      "source": [
        "# Carrega o melhor resultado\n",
        "modelo.load_weights('model.weights.best.hdf5')"
      ],
      "execution_count": 0,
      "outputs": []
    },
    {
      "cell_type": "code",
      "metadata": {
        "id": "M3AMMP6FvEG4",
        "colab_type": "code",
        "colab": {
          "base_uri": "https://localhost:8080/",
          "height": 121
        },
        "outputId": "0a4798dd-1552-42ea-cdb1-4aba21a05d96"
      },
      "source": [
        "# Avaliando modelo\n",
        "scores = modelo.evaluate(y_test, X_test)\n",
        "print(\"\\n\")\n",
        "print(\"Acurracia do modelo\")\n",
        "print(\"\\n%s: %2f%%\" % (modelo.metrics_names[1], scores[1]*100))"
      ],
      "execution_count": 28,
      "outputs": [
        {
          "output_type": "stream",
          "text": [
            "731/731 [==============================] - 0s 48us/step\n",
            "\n",
            "\n",
            "Acurracia do modelo\n",
            "\n",
            "acc: 76.744186%\n"
          ],
          "name": "stdout"
        }
      ]
    },
    {
      "cell_type": "markdown",
      "metadata": {
        "id": "VQj15LiBvEHP",
        "colab_type": "text"
      },
      "source": [
        "# Predict "
      ]
    },
    {
      "cell_type": "code",
      "metadata": {
        "id": "xdx6JPIzvEHW",
        "colab_type": "code",
        "colab": {
          "base_uri": "https://localhost:8080/",
          "height": 81
        },
        "outputId": "7670cc14-2a20-43d4-c739-34a74d604e66"
      },
      "source": [
        "#numero_sorteio = [[3,6,11,27,28,46]]\n",
        "\n",
        "numero_sorteio = [[7, 14, 47, 54,56, 60]]\n",
        "\n",
        "y_predict = pd.DataFrame(numero_sorteio)\n",
        "y_predict"
      ],
      "execution_count": 29,
      "outputs": [
        {
          "output_type": "execute_result",
          "data": {
            "text/html": [
              "<div>\n",
              "<style scoped>\n",
              "    .dataframe tbody tr th:only-of-type {\n",
              "        vertical-align: middle;\n",
              "    }\n",
              "\n",
              "    .dataframe tbody tr th {\n",
              "        vertical-align: top;\n",
              "    }\n",
              "\n",
              "    .dataframe thead th {\n",
              "        text-align: right;\n",
              "    }\n",
              "</style>\n",
              "<table border=\"1\" class=\"dataframe\">\n",
              "  <thead>\n",
              "    <tr style=\"text-align: right;\">\n",
              "      <th></th>\n",
              "      <th>0</th>\n",
              "      <th>1</th>\n",
              "      <th>2</th>\n",
              "      <th>3</th>\n",
              "      <th>4</th>\n",
              "      <th>5</th>\n",
              "    </tr>\n",
              "  </thead>\n",
              "  <tbody>\n",
              "    <tr>\n",
              "      <th>0</th>\n",
              "      <td>7</td>\n",
              "      <td>14</td>\n",
              "      <td>47</td>\n",
              "      <td>54</td>\n",
              "      <td>56</td>\n",
              "      <td>60</td>\n",
              "    </tr>\n",
              "  </tbody>\n",
              "</table>\n",
              "</div>"
            ],
            "text/plain": [
              "   0   1   2   3   4   5\n",
              "0  7  14  47  54  56  60"
            ]
          },
          "metadata": {
            "tags": []
          },
          "execution_count": 29
        }
      ]
    },
    {
      "cell_type": "code",
      "metadata": {
        "id": "JJCKqx1PvEHu",
        "colab_type": "code",
        "colab": {
          "base_uri": "https://localhost:8080/",
          "height": 86
        },
        "outputId": "3dec42e6-9533-49fd-cc3f-db3d934bfcef"
      },
      "source": [
        "# Fazendo a predição - Classes\n",
        "predict_class = modelo.predict_classes(y_predict)\n",
        "print(\"1 = Tem chance de ganhar / 0 = Não tem chance de ganhar\")\n",
        "print(\"\\n\")\n",
        "print(\"Previsão Modelo: \",predict_class[0][0])"
      ],
      "execution_count": 30,
      "outputs": [
        {
          "output_type": "stream",
          "text": [
            "1 = Tem chance de ganhar / 0 = Não tem chance de ganhar\n",
            "\n",
            "\n",
            "Previsão Modelo:  0\n"
          ],
          "name": "stdout"
        }
      ]
    },
    {
      "cell_type": "code",
      "metadata": {
        "id": "aoLEYVDWvEIG",
        "colab_type": "code",
        "colab": {
          "base_uri": "https://localhost:8080/",
          "height": 86
        },
        "outputId": "eaaadd14-72ce-42c7-dd09-1bcbeea83a8e"
      },
      "source": [
        "# Achando a probabilidade - Proba\n",
        "predict_proba = modelo.predict_proba(y_predict)\n",
        "print(\"Qual a probabilidade do número sair?\")\n",
        "print(\"\\n\")\n",
        "print(\"Probabilidade: \", round((predict_proba[0][0]*100),2), \"%\")"
      ],
      "execution_count": 31,
      "outputs": [
        {
          "output_type": "stream",
          "text": [
            "Qual a probabilidade do número sair?\n",
            "\n",
            "\n",
            "Probabilidade:  24.33 %\n"
          ],
          "name": "stdout"
        }
      ]
    },
    {
      "cell_type": "markdown",
      "metadata": {
        "id": "iz4FvbFOvEIe",
        "colab_type": "text"
      },
      "source": [
        "# Gerando numero Mega Sena"
      ]
    },
    {
      "cell_type": "code",
      "metadata": {
        "id": "BR0XU0UJvEIl",
        "colab_type": "code",
        "colab": {}
      },
      "source": [
        "import random"
      ],
      "execution_count": 0,
      "outputs": []
    },
    {
      "cell_type": "code",
      "metadata": {
        "id": "IwuT0mrSvEI8",
        "colab_type": "code",
        "colab": {}
      },
      "source": [
        "random.seed(60)"
      ],
      "execution_count": 0,
      "outputs": []
    },
    {
      "cell_type": "code",
      "metadata": {
        "id": "zsh9sfjlvEJS",
        "colab_type": "code",
        "colab": {
          "base_uri": "https://localhost:8080/",
          "height": 34
        },
        "outputId": "c516f427-f0a7-41ba-c477-4018ec6ddc9d"
      },
      "source": [
        "probabilidade_boa   = 99\n",
        "probabilidade_atual = 0\n",
        "\n",
        "# Gerando list com as dezenas sorteadas\n",
        "dezenas_sorteadas = df_nn[['primeira_dezena','segunda_dezena', 'terceira_dezena', 'quarta_dezena', 'quinta_dezena', 'sexta_dezena']].values.tolist()\n",
        "\n",
        "# Gera sequencia de numeros até que a probabilidade seja maior ou igual que 99%\n",
        "while(probabilidade_atual < probabilidade_boa):\n",
        "    \n",
        "    # Gera sequencia de número \n",
        "    dezenas_megasena = random.sample(range(1, 60), 6)\n",
        "    \n",
        "    # Numero gerado já foi sorteado?\n",
        "    if not dezenas_megasena in dezenas_sorteadas:\n",
        "\n",
        "        # Valida qual a probabilidade da seguência ser sorteada\n",
        "        probabilidade_atual = int(modelo.predict_proba(pd.DataFrame([dezenas_megasena]))[0][0]*100)\n",
        "    \n",
        "\n",
        "print(\"Probabilidade de {0} % -> Dezenas: {1}\".format(probabilidade_atual, sorted(dezenas_megasena)))   "
      ],
      "execution_count": 34,
      "outputs": [
        {
          "output_type": "stream",
          "text": [
            "Probabilidade de 99 % -> Dezenas: [3, 6, 14, 21, 51, 55]\n"
          ],
          "name": "stdout"
        }
      ]
    },
    {
      "cell_type": "code",
      "metadata": {
        "id": "VCVjh_D_BnmN",
        "colab_type": "code",
        "colab": {}
      },
      "source": [
        "# Salva dados do modelo no pc\n",
        "from google.colab import files\n",
        "\n",
        "files.download(\"model.weights.best.hdf5\")"
      ],
      "execution_count": 0,
      "outputs": []
    }
  ]
}